{
  "nbformat": 4,
  "nbformat_minor": 0,
  "metadata": {
    "colab": {
      "name": "Regex hands-on",
      "provenance": [],
      "collapsed_sections": []
    },
    "kernelspec": {
      "name": "python3",
      "display_name": "Python 3"
    }
  },
  "cells": [
    {
      "cell_type": "markdown",
      "metadata": {
        "id": "-JL8VRlY5IBM"
      },
      "source": [
        "# Part 1: Regex"
      ]
    },
    {
      "cell_type": "code",
      "metadata": {
        "id": "IZh5JEzESufc",
        "colab": {
          "base_uri": "https://localhost:8080/",
          "height": 70
        },
        "outputId": "6bc33610-3991-4fee-ff6b-8c629656c7b2"
      },
      "source": [
        "import re\n",
        "\n",
        "txt = \"Dr. Mirna Adriani bercerita, bahwa Fasilkom UI memiliki mahasiswa sebanyak 1.700 orang, \" \\\n",
        "      \"dengan jumlah mahasiswi rata-rata 30%. Pada awal berdiri Fasilkom, Juli 1986, \" \\\n",
        "      \"jumlah mahasiswi hanya mencapai 20% saja! \" \\\n",
        "      \"20 tahun semenjak berdiri, Fasilkom membuka Prodi Sistem Informasi. \" \\\n",
        "      \"Sekarang Fasilkom berumur 34. \" \\\n",
        "      \"Nomor telepon Fasilkom adalah 9999 7777.\"\n",
        "\n",
        "txt"
      ],
      "execution_count": 1,
      "outputs": [
        {
          "output_type": "execute_result",
          "data": {
            "application/vnd.google.colaboratory.intrinsic+json": {
              "type": "string"
            },
            "text/plain": [
              "'Dr. Mirna Adriani bercerita, bahwa Fasilkom UI memiliki mahasiswa sebanyak 1.700 orang, dengan jumlah mahasiswi rata-rata 30%. Pada awal berdiri Fasilkom, Juli 1986, jumlah mahasiswi hanya mencapai 20% saja! 20 tahun semenjak berdiri, Fasilkom membuka Prodi Sistem Informasi. Sekarang Fasilkom berumur 34. Nomor telepon Fasilkom adalah 9999 7777.'"
            ]
          },
          "metadata": {},
          "execution_count": 1
        }
      ]
    },
    {
      "cell_type": "code",
      "metadata": {
        "id": "MSpJe2FzVxjM",
        "colab": {
          "base_uri": "https://localhost:8080/"
        },
        "outputId": "d6d0227c-9ce0-4141-cc6c-f7e8157846b8"
      },
      "source": [
        "# Extract all numerical data from text\n"
      ],
      "execution_count": 2,
      "outputs": [
        {
          "output_type": "execute_result",
          "data": {
            "text/plain": [
              "['1.700', '30%', '20%', '20', '34']"
            ]
          },
          "metadata": {},
          "execution_count": 2
        }
      ]
    },
    {
      "cell_type": "code",
      "metadata": {
        "id": "H82x5Hi7Fda9",
        "colab": {
          "base_uri": "https://localhost:8080/",
          "height": 210
        },
        "outputId": "a451d3f3-230b-4eb3-db9c-977fa41a03c5"
      },
      "source": [
        "# Extract all capitalized letter"
      ],
      "execution_count": null,
      "outputs": [
        {
          "output_type": "execute_result",
          "data": {
            "text/plain": [
              "['Dr',\n",
              " 'Mirna Adriani ',\n",
              " 'Fasilkom ',\n",
              " 'Pada ',\n",
              " 'Fasilkom',\n",
              " 'Juli ',\n",
              " 'Fasilkom ',\n",
              " 'Prodi Sistem Informasi',\n",
              " 'Sekarang Fasilkom ',\n",
              " 'Nomor ',\n",
              " 'Fasilkom ']"
            ]
          },
          "metadata": {
            "tags": []
          },
          "execution_count": 341
        }
      ]
    },
    {
      "cell_type": "code",
      "metadata": {
        "id": "r0KuqSCpBvO6",
        "colab": {
          "base_uri": "https://localhost:8080/",
          "height": 34
        },
        "outputId": "d0dbbbb8-49d2-4c7d-958b-7c7431ece663"
      },
      "source": [
        "# Extract all month-year in the text"
      ],
      "execution_count": null,
      "outputs": [
        {
          "output_type": "execute_result",
          "data": {
            "text/plain": [
              "[('Juli 1986', 'Juli', '1986')]"
            ]
          },
          "metadata": {
            "tags": []
          },
          "execution_count": 342
        }
      ]
    },
    {
      "cell_type": "code",
      "metadata": {
        "id": "TbfhcTc7lCwq",
        "colab": {
          "base_uri": "https://localhost:8080/"
        },
        "outputId": "f980e773-ce3a-44b1-fc10-662c430a2e8e"
      },
      "source": [
        "# extracting reduplication using backreference"
      ],
      "execution_count": 4,
      "outputs": [
        {
          "output_type": "stream",
          "name": "stdout",
          "text": [
            "[('rata', '-', 'rata')]\n",
            "[('rata-rata', 'rata')]\n"
          ]
        }
      ]
    },
    {
      "cell_type": "code",
      "metadata": {
        "id": "XvK7LmoraHD_",
        "colab": {
          "base_uri": "https://localhost:8080/"
        },
        "outputId": "a133feb5-cf63-4181-e9a1-8836e3bbc380"
      },
      "source": [
        "# Segmenting text into sentences, then make it more accurate"
      ],
      "execution_count": 5,
      "outputs": [
        {
          "output_type": "execute_result",
          "data": {
            "text/plain": [
              "['Dr',\n",
              " ' Mirna Adriani bercerita, bahwa Fasilkom UI memiliki mahasiswa sebanyak 1',\n",
              " '700 orang, dengan jumlah mahasiswi rata-rata 30%',\n",
              " ' Pada awal berdiri Fasilkom, Juli 1986, jumlah mahasiswi hanya mencapai 20% saja',\n",
              " ' 20 tahun semenjak berdiri, Fasilkom membuka Prodi Sistem Informasi',\n",
              " ' Sekarang Fasilkom berumur 34',\n",
              " ' Nomor telepon Fasilkom adalah 9999 7777',\n",
              " '']"
            ]
          },
          "metadata": {},
          "execution_count": 5
        }
      ]
    },
    {
      "cell_type": "code",
      "metadata": {
        "id": "BDaZK5gArFFL",
        "colab": {
          "base_uri": "https://localhost:8080/",
          "height": 210
        },
        "outputId": "59a8b27f-624f-47ed-d323-c51738adcefc"
      },
      "source": [
        "# tokenization with regex, then make it better (e.g. handle the phone number case)"
      ],
      "execution_count": null,
      "outputs": [
        {
          "output_type": "execute_result",
          "data": {
            "text/plain": [
              "['Dr.',\n",
              " 'Mirna',\n",
              " 'Adriani',\n",
              " 'bercerita,',\n",
              " 'bahwa',\n",
              " 'Fasilkom',\n",
              " 'UI',\n",
              " 'memiliki',\n",
              " 'mahasiswa',\n",
              " 'sebanyak',\n",
              " '1']"
            ]
          },
          "metadata": {
            "tags": []
          },
          "execution_count": 297
        }
      ]
    },
    {
      "cell_type": "markdown",
      "metadata": {
        "id": "J3G_RZ1M5RDt"
      },
      "source": [
        "# Part 2: Available libraries: Stanza, NLTK, Spacy"
      ]
    },
    {
      "cell_type": "code",
      "metadata": {
        "id": "GBbBCeWDfV0K",
        "colab": {
          "base_uri": "https://localhost:8080/",
          "height": 265
        },
        "outputId": "40a985fc-5159-443d-d76f-c51b24de8251"
      },
      "source": [
        "!pip install stanza"
      ],
      "execution_count": null,
      "outputs": [
        {
          "output_type": "stream",
          "text": [
            "Requirement already satisfied: stanza in /usr/local/lib/python3.6/dist-packages (1.1.1)\n",
            "Requirement already satisfied: numpy in /usr/local/lib/python3.6/dist-packages (from stanza) (1.18.5)\n",
            "Requirement already satisfied: requests in /usr/local/lib/python3.6/dist-packages (from stanza) (2.23.0)\n",
            "Requirement already satisfied: protobuf in /usr/local/lib/python3.6/dist-packages (from stanza) (3.12.4)\n",
            "Requirement already satisfied: torch>=1.3.0 in /usr/local/lib/python3.6/dist-packages (from stanza) (1.6.0+cu101)\n",
            "Requirement already satisfied: tqdm in /usr/local/lib/python3.6/dist-packages (from stanza) (4.41.1)\n",
            "Requirement already satisfied: chardet<4,>=3.0.2 in /usr/local/lib/python3.6/dist-packages (from requests->stanza) (3.0.4)\n",
            "Requirement already satisfied: certifi>=2017.4.17 in /usr/local/lib/python3.6/dist-packages (from requests->stanza) (2020.6.20)\n",
            "Requirement already satisfied: urllib3!=1.25.0,!=1.25.1,<1.26,>=1.21.1 in /usr/local/lib/python3.6/dist-packages (from requests->stanza) (1.24.3)\n",
            "Requirement already satisfied: idna<3,>=2.5 in /usr/local/lib/python3.6/dist-packages (from requests->stanza) (2.10)\n",
            "Requirement already satisfied: six>=1.9 in /usr/local/lib/python3.6/dist-packages (from protobuf->stanza) (1.15.0)\n",
            "Requirement already satisfied: setuptools in /usr/local/lib/python3.6/dist-packages (from protobuf->stanza) (50.3.0)\n",
            "Requirement already satisfied: future in /usr/local/lib/python3.6/dist-packages (from torch>=1.3.0->stanza) (0.16.0)\n"
          ],
          "name": "stdout"
        }
      ]
    },
    {
      "cell_type": "code",
      "metadata": {
        "id": "qEgm6CYJqqu8",
        "colab": {
          "base_uri": "https://localhost:8080/",
          "height": 368
        },
        "outputId": "78e8b43f-c160-4656-9a73-8f7bf23b5d7c"
      },
      "source": [
        "# tokenizer stanza bersifat multilingual dan support bahasa indonesia\n",
        "import stanza\n",
        "\n",
        "stanza.download('id', processors='tokenize')\n",
        "nlp = stanza.Pipeline('id', processors='tokenize')"
      ],
      "execution_count": null,
      "outputs": [
        {
          "output_type": "stream",
          "text": [
            "Downloading https://raw.githubusercontent.com/stanfordnlp/stanza-resources/master/resources_1.1.0.json: 122kB [00:00, 14.5MB/s]                    \n",
            "2020-09-30 20:31:25 INFO: Downloading these customized packages for language: id (Indonesian)...\n",
            "=======================\n",
            "| Processor | Package |\n",
            "-----------------------\n",
            "| tokenize  | gsd     |\n",
            "=======================\n",
            "\n",
            "Downloading http://nlp.stanford.edu/software/stanza/1.1.0/id/tokenize/gsd.pt: 100%|██████████| 656k/656k [00:01<00:00, 596kB/s]\n",
            "2020-09-30 20:31:27 INFO: Finished downloading models and saved to /root/stanza_resources.\n",
            "2020-09-30 20:31:27 INFO: Loading these models for language: id (Indonesian):\n",
            "=======================\n",
            "| Processor | Package |\n",
            "-----------------------\n",
            "| tokenize  | gsd     |\n",
            "=======================\n",
            "\n",
            "2020-09-30 20:31:27 INFO: Use device: cpu\n",
            "2020-09-30 20:31:27 INFO: Loading: tokenize\n",
            "2020-09-30 20:31:27 INFO: Done loading processors!\n"
          ],
          "name": "stderr"
        }
      ]
    },
    {
      "cell_type": "code",
      "metadata": {
        "id": "oyrFjFb4toUp",
        "colab": {
          "base_uri": "https://localhost:8080/",
          "height": 107
        },
        "outputId": "5dd3e604-3baf-4e5d-8d5a-881605f32dcb"
      },
      "source": [
        "txt = \"Dr. Mirna Adriani bercerita, bahwa Fasilkom UI memiliki mahasiswa sebanyak 1.700 orang, \" \\\n",
        "      \"dengan jumlah mahasiswi rata-rata 30%. Pada awal berdiri Fasilkom, Juli 1986, \" \\\n",
        "      \"jumlah mahasiswi hanya mencapai 20% saja! \" \\\n",
        "      \"20 tahun semenjak berdiri, Fasilkom membuka Prodi Sistem Informasi. \" \\\n",
        "      \"Sekarang Fasilkom berumur 34. \" \\\n",
        "      \"Nomor telepon Fasilkom adalah +62-21 5557 2819.\"\n",
        "\n",
        "doc = nlp(txt)\n",
        "for sentence in doc.sentences:\n",
        "  print([word.text for word in sentence.words])"
      ],
      "execution_count": null,
      "outputs": [
        {
          "output_type": "stream",
          "text": [
            "['Dr', '.', 'Mirna', 'Adriani', 'bercerita', ',', 'bahwa', 'Fasilkom', 'UI', 'memiliki', 'mahasiswa', 'sebanyak', '1.700', 'orang', ',', 'dengan', 'jumlah', 'mahasiswi', 'rata-rata', '30', '%', '.']\n",
            "['Pada', 'awal', 'berdiri', 'Fasilkom', ',', 'Juli', '1986', ',', 'jumlah', 'mahasiswi', 'hanya', 'mencapai', '20', '%', 'saja', '!', '20', 'tahun', 'semenjak', 'berdiri', ',', 'Fasilkom', 'membuka', 'Prodi', 'Sistem', 'Informasi', '.']\n",
            "['Sekarang', 'Fasilkom', 'berumur', '34', '.']\n",
            "['Nomor', 'telepon', 'Fasilkom', 'adalah', '+62-21', '5557', '2819', '.']\n"
          ],
          "name": "stdout"
        }
      ]
    },
    {
      "cell_type": "code",
      "metadata": {
        "id": "-bZyAAiavOFd",
        "colab": {
          "base_uri": "https://localhost:8080/",
          "height": 195
        },
        "outputId": "de96d97b-ce19-4ce2-a62d-6994a2c3cdf5"
      },
      "source": [
        "# NLTK memiliki beberapa versi tokenizer\n",
        "# - Algorithmic: berbasiskan pada punctuation dan spasi, tapi bisa diperkaya dengan regex (RegexpTokenizer) atau frase-frase khusus (MWETokenizer)\n",
        "# - Berbasiskan model machine-learning ('punkt') yang dilatih secara 'unsupervised'\n",
        "# - TweetTokenizer: tokenizer spesial yang dilatih dengan data twitter sehingga memperhatikan hal-hal seperti emoticon dan hashtag\n",
        "# -- Library lain yang khusus untuk twitter dan lebih sophisticated: https://github.com/cbaziotis/ekphrasis\n",
        "# Model punkt yang tersedia di NLTK dilatih di Bahasa Inggris\n",
        "# Model punkt ini sudah bekerja dengan cukup baik di Bahasa Indonesia, namun jika ditemukan kesalahan, kita bisa membuat model punkt custom\n",
        "# contoh kodenya: https://stackoverflow.com/questions/21160310/training-data-format-for-nltk-punkt\n",
        "\n",
        "!pip install nltk\n",
        "import nltk\n",
        "nltk.download('punkt')\n",
        "\n",
        "sent_text = nltk.sent_tokenize(txt) # this gives us a list of sentences\n",
        "# now loop over each sentence and tokenize it separately\n",
        "for sentence in sent_text:\n",
        "    tokenized_text = nltk.word_tokenize(sentence)\n",
        "    print(tokenized_text)"
      ],
      "execution_count": null,
      "outputs": [
        {
          "output_type": "stream",
          "text": [
            "Requirement already satisfied: nltk in /usr/local/lib/python3.6/dist-packages (3.2.5)\n",
            "Requirement already satisfied: six in /usr/local/lib/python3.6/dist-packages (from nltk) (1.15.0)\n",
            "[nltk_data] Downloading package punkt to /root/nltk_data...\n",
            "[nltk_data]   Package punkt is already up-to-date!\n",
            "['Dr.', 'Mirna', 'Adriani', 'bercerita', ',', 'bahwa', 'Fasilkom', 'UI', 'memiliki', 'mahasiswa', 'sebanyak', '1.700', 'orang', ',', 'dengan', 'jumlah', 'mahasiswi', 'rata-rata', '30', '%', '.']\n",
            "['Pada', 'awal', 'berdiri', 'Fasilkom', ',', 'Juli', '1986', ',', 'jumlah', 'mahasiswi', 'hanya', 'mencapai', '20', '%', 'saja', '!']\n",
            "['20', 'tahun', 'semenjak', 'berdiri', ',', 'Fasilkom', 'membuka', 'Prodi', 'Sistem', 'Informasi', '.']\n",
            "['Sekarang', 'Fasilkom', 'berumur', '34', '.']\n",
            "['Nomor', 'telepon', 'Fasilkom', 'adalah', '+62-21', '5557', '2819', '.']\n"
          ],
          "name": "stdout"
        }
      ]
    },
    {
      "cell_type": "code",
      "metadata": {
        "colab": {
          "base_uri": "https://localhost:8080/"
        },
        "id": "I6iErKwG_r8S",
        "outputId": "314ebde4-eafb-4316-c2c8-adbafabe620c"
      },
      "source": [
        "# NLTK juga memiliki list of stopwords, di berbagai bahasa\n",
        "import nltk\n",
        "nltk.download('stopwords')\n",
        "print(stopwords.words('english'))\n",
        "print(stopwords.words('indonesian'))"
      ],
      "execution_count": 16,
      "outputs": [
        {
          "output_type": "stream",
          "name": "stdout",
          "text": [
            "[nltk_data] Downloading package stopwords to /root/nltk_data...\n",
            "[nltk_data]   Package stopwords is already up-to-date!\n",
            "['i', 'me', 'my', 'myself', 'we', 'our', 'ours', 'ourselves', 'you', \"you're\", \"you've\", \"you'll\", \"you'd\", 'your', 'yours', 'yourself', 'yourselves', 'he', 'him', 'his', 'himself', 'she', \"she's\", 'her', 'hers', 'herself', 'it', \"it's\", 'its', 'itself', 'they', 'them', 'their', 'theirs', 'themselves', 'what', 'which', 'who', 'whom', 'this', 'that', \"that'll\", 'these', 'those', 'am', 'is', 'are', 'was', 'were', 'be', 'been', 'being', 'have', 'has', 'had', 'having', 'do', 'does', 'did', 'doing', 'a', 'an', 'the', 'and', 'but', 'if', 'or', 'because', 'as', 'until', 'while', 'of', 'at', 'by', 'for', 'with', 'about', 'against', 'between', 'into', 'through', 'during', 'before', 'after', 'above', 'below', 'to', 'from', 'up', 'down', 'in', 'out', 'on', 'off', 'over', 'under', 'again', 'further', 'then', 'once', 'here', 'there', 'when', 'where', 'why', 'how', 'all', 'any', 'both', 'each', 'few', 'more', 'most', 'other', 'some', 'such', 'no', 'nor', 'not', 'only', 'own', 'same', 'so', 'than', 'too', 'very', 's', 't', 'can', 'will', 'just', 'don', \"don't\", 'should', \"should've\", 'now', 'd', 'll', 'm', 'o', 're', 've', 'y', 'ain', 'aren', \"aren't\", 'couldn', \"couldn't\", 'didn', \"didn't\", 'doesn', \"doesn't\", 'hadn', \"hadn't\", 'hasn', \"hasn't\", 'haven', \"haven't\", 'isn', \"isn't\", 'ma', 'mightn', \"mightn't\", 'mustn', \"mustn't\", 'needn', \"needn't\", 'shan', \"shan't\", 'shouldn', \"shouldn't\", 'wasn', \"wasn't\", 'weren', \"weren't\", 'won', \"won't\", 'wouldn', \"wouldn't\"]\n",
            "['ada', 'adalah', 'adanya', 'adapun', 'agak', 'agaknya', 'agar', 'akan', 'akankah', 'akhir', 'akhiri', 'akhirnya', 'aku', 'akulah', 'amat', 'amatlah', 'anda', 'andalah', 'antar', 'antara', 'antaranya', 'apa', 'apaan', 'apabila', 'apakah', 'apalagi', 'apatah', 'artinya', 'asal', 'asalkan', 'atas', 'atau', 'ataukah', 'ataupun', 'awal', 'awalnya', 'bagai', 'bagaikan', 'bagaimana', 'bagaimanakah', 'bagaimanapun', 'bagi', 'bagian', 'bahkan', 'bahwa', 'bahwasanya', 'baik', 'bakal', 'bakalan', 'balik', 'banyak', 'bapak', 'baru', 'bawah', 'beberapa', 'begini', 'beginian', 'beginikah', 'beginilah', 'begitu', 'begitukah', 'begitulah', 'begitupun', 'bekerja', 'belakang', 'belakangan', 'belum', 'belumlah', 'benar', 'benarkah', 'benarlah', 'berada', 'berakhir', 'berakhirlah', 'berakhirnya', 'berapa', 'berapakah', 'berapalah', 'berapapun', 'berarti', 'berawal', 'berbagai', 'berdatangan', 'beri', 'berikan', 'berikut', 'berikutnya', 'berjumlah', 'berkali-kali', 'berkata', 'berkehendak', 'berkeinginan', 'berkenaan', 'berlainan', 'berlalu', 'berlangsung', 'berlebihan', 'bermacam', 'bermacam-macam', 'bermaksud', 'bermula', 'bersama', 'bersama-sama', 'bersiap', 'bersiap-siap', 'bertanya', 'bertanya-tanya', 'berturut', 'berturut-turut', 'bertutur', 'berujar', 'berupa', 'besar', 'betul', 'betulkah', 'biasa', 'biasanya', 'bila', 'bilakah', 'bisa', 'bisakah', 'boleh', 'bolehkah', 'bolehlah', 'buat', 'bukan', 'bukankah', 'bukanlah', 'bukannya', 'bulan', 'bung', 'cara', 'caranya', 'cukup', 'cukupkah', 'cukuplah', 'cuma', 'dahulu', 'dalam', 'dan', 'dapat', 'dari', 'daripada', 'datang', 'dekat', 'demi', 'demikian', 'demikianlah', 'dengan', 'depan', 'di', 'dia', 'diakhiri', 'diakhirinya', 'dialah', 'diantara', 'diantaranya', 'diberi', 'diberikan', 'diberikannya', 'dibuat', 'dibuatnya', 'didapat', 'didatangkan', 'digunakan', 'diibaratkan', 'diibaratkannya', 'diingat', 'diingatkan', 'diinginkan', 'dijawab', 'dijelaskan', 'dijelaskannya', 'dikarenakan', 'dikatakan', 'dikatakannya', 'dikerjakan', 'diketahui', 'diketahuinya', 'dikira', 'dilakukan', 'dilalui', 'dilihat', 'dimaksud', 'dimaksudkan', 'dimaksudkannya', 'dimaksudnya', 'diminta', 'dimintai', 'dimisalkan', 'dimulai', 'dimulailah', 'dimulainya', 'dimungkinkan', 'dini', 'dipastikan', 'diperbuat', 'diperbuatnya', 'dipergunakan', 'diperkirakan', 'diperlihatkan', 'diperlukan', 'diperlukannya', 'dipersoalkan', 'dipertanyakan', 'dipunyai', 'diri', 'dirinya', 'disampaikan', 'disebut', 'disebutkan', 'disebutkannya', 'disini', 'disinilah', 'ditambahkan', 'ditandaskan', 'ditanya', 'ditanyai', 'ditanyakan', 'ditegaskan', 'ditujukan', 'ditunjuk', 'ditunjuki', 'ditunjukkan', 'ditunjukkannya', 'ditunjuknya', 'dituturkan', 'dituturkannya', 'diucapkan', 'diucapkannya', 'diungkapkan', 'dong', 'dua', 'dulu', 'empat', 'enggak', 'enggaknya', 'entah', 'entahlah', 'guna', 'gunakan', 'hal', 'hampir', 'hanya', 'hanyalah', 'hari', 'harus', 'haruslah', 'harusnya', 'hendak', 'hendaklah', 'hendaknya', 'hingga', 'ia', 'ialah', 'ibarat', 'ibaratkan', 'ibaratnya', 'ibu', 'ikut', 'ingat', 'ingat-ingat', 'ingin', 'inginkah', 'inginkan', 'ini', 'inikah', 'inilah', 'itu', 'itukah', 'itulah', 'jadi', 'jadilah', 'jadinya', 'jangan', 'jangankan', 'janganlah', 'jauh', 'jawab', 'jawaban', 'jawabnya', 'jelas', 'jelaskan', 'jelaslah', 'jelasnya', 'jika', 'jikalau', 'juga', 'jumlah', 'jumlahnya', 'justru', 'kala', 'kalau', 'kalaulah', 'kalaupun', 'kalian', 'kami', 'kamilah', 'kamu', 'kamulah', 'kan', 'kapan', 'kapankah', 'kapanpun', 'karena', 'karenanya', 'kasus', 'kata', 'katakan', 'katakanlah', 'katanya', 'ke', 'keadaan', 'kebetulan', 'kecil', 'kedua', 'keduanya', 'keinginan', 'kelamaan', 'kelihatan', 'kelihatannya', 'kelima', 'keluar', 'kembali', 'kemudian', 'kemungkinan', 'kemungkinannya', 'kenapa', 'kepada', 'kepadanya', 'kesampaian', 'keseluruhan', 'keseluruhannya', 'keterlaluan', 'ketika', 'khususnya', 'kini', 'kinilah', 'kira', 'kira-kira', 'kiranya', 'kita', 'kitalah', 'kok', 'kurang', 'lagi', 'lagian', 'lah', 'lain', 'lainnya', 'lalu', 'lama', 'lamanya', 'lanjut', 'lanjutnya', 'lebih', 'lewat', 'lima', 'luar', 'macam', 'maka', 'makanya', 'makin', 'malah', 'malahan', 'mampu', 'mampukah', 'mana', 'manakala', 'manalagi', 'masa', 'masalah', 'masalahnya', 'masih', 'masihkah', 'masing', 'masing-masing', 'mau', 'maupun', 'melainkan', 'melakukan', 'melalui', 'melihat', 'melihatnya', 'memang', 'memastikan', 'memberi', 'memberikan', 'membuat', 'memerlukan', 'memihak', 'meminta', 'memintakan', 'memisalkan', 'memperbuat', 'mempergunakan', 'memperkirakan', 'memperlihatkan', 'mempersiapkan', 'mempersoalkan', 'mempertanyakan', 'mempunyai', 'memulai', 'memungkinkan', 'menaiki', 'menambahkan', 'menandaskan', 'menanti', 'menanti-nanti', 'menantikan', 'menanya', 'menanyai', 'menanyakan', 'mendapat', 'mendapatkan', 'mendatang', 'mendatangi', 'mendatangkan', 'menegaskan', 'mengakhiri', 'mengapa', 'mengatakan', 'mengatakannya', 'mengenai', 'mengerjakan', 'mengetahui', 'menggunakan', 'menghendaki', 'mengibaratkan', 'mengibaratkannya', 'mengingat', 'mengingatkan', 'menginginkan', 'mengira', 'mengucapkan', 'mengucapkannya', 'mengungkapkan', 'menjadi', 'menjawab', 'menjelaskan', 'menuju', 'menunjuk', 'menunjuki', 'menunjukkan', 'menunjuknya', 'menurut', 'menuturkan', 'menyampaikan', 'menyangkut', 'menyatakan', 'menyebutkan', 'menyeluruh', 'menyiapkan', 'merasa', 'mereka', 'merekalah', 'merupakan', 'meski', 'meskipun', 'meyakini', 'meyakinkan', 'minta', 'mirip', 'misal', 'misalkan', 'misalnya', 'mula', 'mulai', 'mulailah', 'mulanya', 'mungkin', 'mungkinkah', 'nah', 'naik', 'namun', 'nanti', 'nantinya', 'nyaris', 'nyatanya', 'oleh', 'olehnya', 'pada', 'padahal', 'padanya', 'pak', 'paling', 'panjang', 'pantas', 'para', 'pasti', 'pastilah', 'penting', 'pentingnya', 'per', 'percuma', 'perlu', 'perlukah', 'perlunya', 'pernah', 'persoalan', 'pertama', 'pertama-tama', 'pertanyaan', 'pertanyakan', 'pihak', 'pihaknya', 'pukul', 'pula', 'pun', 'punya', 'rasa', 'rasanya', 'rata', 'rupanya', 'saat', 'saatnya', 'saja', 'sajalah', 'saling', 'sama', 'sama-sama', 'sambil', 'sampai', 'sampai-sampai', 'sampaikan', 'sana', 'sangat', 'sangatlah', 'satu', 'saya', 'sayalah', 'se', 'sebab', 'sebabnya', 'sebagai', 'sebagaimana', 'sebagainya', 'sebagian', 'sebaik', 'sebaik-baiknya', 'sebaiknya', 'sebaliknya', 'sebanyak', 'sebegini', 'sebegitu', 'sebelum', 'sebelumnya', 'sebenarnya', 'seberapa', 'sebesar', 'sebetulnya', 'sebisanya', 'sebuah', 'sebut', 'sebutlah', 'sebutnya', 'secara', 'secukupnya', 'sedang', 'sedangkan', 'sedemikian', 'sedikit', 'sedikitnya', 'seenaknya', 'segala', 'segalanya', 'segera', 'seharusnya', 'sehingga', 'seingat', 'sejak', 'sejauh', 'sejenak', 'sejumlah', 'sekadar', 'sekadarnya', 'sekali', 'sekali-kali', 'sekalian', 'sekaligus', 'sekalipun', 'sekarang', 'sekarang', 'sekecil', 'seketika', 'sekiranya', 'sekitar', 'sekitarnya', 'sekurang-kurangnya', 'sekurangnya', 'sela', 'selain', 'selaku', 'selalu', 'selama', 'selama-lamanya', 'selamanya', 'selanjutnya', 'seluruh', 'seluruhnya', 'semacam', 'semakin', 'semampu', 'semampunya', 'semasa', 'semasih', 'semata', 'semata-mata', 'semaunya', 'sementara', 'semisal', 'semisalnya', 'sempat', 'semua', 'semuanya', 'semula', 'sendiri', 'sendirian', 'sendirinya', 'seolah', 'seolah-olah', 'seorang', 'sepanjang', 'sepantasnya', 'sepantasnyalah', 'seperlunya', 'seperti', 'sepertinya', 'sepihak', 'sering', 'seringnya', 'serta', 'serupa', 'sesaat', 'sesama', 'sesampai', 'sesegera', 'sesekali', 'seseorang', 'sesuatu', 'sesuatunya', 'sesudah', 'sesudahnya', 'setelah', 'setempat', 'setengah', 'seterusnya', 'setiap', 'setiba', 'setibanya', 'setidak-tidaknya', 'setidaknya', 'setinggi', 'seusai', 'sewaktu', 'siap', 'siapa', 'siapakah', 'siapapun', 'sini', 'sinilah', 'soal', 'soalnya', 'suatu', 'sudah', 'sudahkah', 'sudahlah', 'supaya', 'tadi', 'tadinya', 'tahu', 'tahun', 'tak', 'tambah', 'tambahnya', 'tampak', 'tampaknya', 'tandas', 'tandasnya', 'tanpa', 'tanya', 'tanyakan', 'tanyanya', 'tapi', 'tegas', 'tegasnya', 'telah', 'tempat', 'tengah', 'tentang', 'tentu', 'tentulah', 'tentunya', 'tepat', 'terakhir', 'terasa', 'terbanyak', 'terdahulu', 'terdapat', 'terdiri', 'terhadap', 'terhadapnya', 'teringat', 'teringat-ingat', 'terjadi', 'terjadilah', 'terjadinya', 'terkira', 'terlalu', 'terlebih', 'terlihat', 'termasuk', 'ternyata', 'tersampaikan', 'tersebut', 'tersebutlah', 'tertentu', 'tertuju', 'terus', 'terutama', 'tetap', 'tetapi', 'tiap', 'tiba', 'tiba-tiba', 'tidak', 'tidakkah', 'tidaklah', 'tiga', 'tinggi', 'toh', 'tunjuk', 'turut', 'tutur', 'tuturnya', 'ucap', 'ucapnya', 'ujar', 'ujarnya', 'umum', 'umumnya', 'ungkap', 'ungkapnya', 'untuk', 'usah', 'usai', 'waduh', 'wah', 'wahai', 'waktu', 'waktunya', 'walau', 'walaupun', 'wong', 'yaitu', 'yakin', 'yakni', 'yang']\n"
          ]
        }
      ]
    },
    {
      "cell_type": "code",
      "metadata": {
        "colab": {
          "base_uri": "https://localhost:8080/",
          "height": 35
        },
        "id": "b7uGDkaLADwi",
        "outputId": "fcc4cd53-ade5-45b3-e119-bddce65e5ba5"
      },
      "source": [
        "# Snowball stemmer di NLTK; support beberapa bahasa namun tidak Bahasa Indonesia\n",
        "from nltk.stem import SnowballStemmer\n",
        "stemmer = SnowballStemmer(\"german\")\n",
        "stemmer.stem(\"Autobahnen\") #highway/jalan tol, plural"
      ],
      "execution_count": 19,
      "outputs": [
        {
          "output_type": "execute_result",
          "data": {
            "application/vnd.google.colaboratory.intrinsic+json": {
              "type": "string"
            },
            "text/plain": [
              "'autobahn'"
            ]
          },
          "metadata": {},
          "execution_count": 19
        }
      ]
    },
    {
      "cell_type": "code",
      "metadata": {
        "colab": {
          "base_uri": "https://localhost:8080/"
        },
        "id": "cji7SVFq5YXv",
        "outputId": "452e3e52-689e-482b-d534-36dcc60c77b8"
      },
      "source": [
        "#spacy tokenizers and stopwords are language-specific, but there are no Indonesian yet\n",
        "from spacy.lang.en import English\n",
        "nlp = English()\n",
        "\n",
        "tokens = nlp.tokenizer(txt)\n",
        "for token in tokens:\n",
        "  print(token.text)\n",
        "\n",
        "print(nlp.Defaults.stop_words)"
      ],
      "execution_count": 21,
      "outputs": [
        {
          "output_type": "stream",
          "name": "stdout",
          "text": [
            "Dr.\n",
            "Mirna\n",
            "Adriani\n",
            "bercerita\n",
            ",\n",
            "bahwa\n",
            "Fasilkom\n",
            "UI\n",
            "memiliki\n",
            "mahasiswa\n",
            "sebanyak\n",
            "1.700\n",
            "orang\n",
            ",\n",
            "dengan\n",
            "jumlah\n",
            "mahasiswi\n",
            "rata\n",
            "-\n",
            "rata\n",
            "30\n",
            "%\n",
            ".\n",
            "Pada\n",
            "awal\n",
            "berdiri\n",
            "Fasilkom\n",
            ",\n",
            "Juli\n",
            "1986\n",
            ",\n",
            "jumlah\n",
            "mahasiswi\n",
            "hanya\n",
            "mencapai\n",
            "20\n",
            "%\n",
            "saja\n",
            "!\n",
            "20\n",
            "tahun\n",
            "semenjak\n",
            "berdiri\n",
            ",\n",
            "Fasilkom\n",
            "membuka\n",
            "Prodi\n",
            "Sistem\n",
            "Informasi\n",
            ".\n",
            "Sekarang\n",
            "Fasilkom\n",
            "berumur\n",
            "34\n",
            ".\n",
            "Nomor\n",
            "telepon\n",
            "Fasilkom\n",
            "adalah\n",
            "9999\n",
            "7777\n",
            ".\n",
            "{'just', 'thereupon', 'enough', 'former', 'of', 'throughout', 'therefore', 'own', 'their', 'whereby', 'me', '’re', 'n’t', 'various', 'thence', 'its', 'wherever', 'often', 'towards', 'mostly', 'amongst', 'third', 'except', 'afterwards', 'seemed', 'nowhere', 'has', 'being', 'do', 'more', '‘d', 'meanwhile', 'anyway', 'empty', 'only', 'above', 'done', 'yet', 'against', '’m', 'see', 'will', \"'ll\", 'after', 'across', '‘ve', '‘ll', 'using', 'next', '‘m', 'rather', 'beyond', 'why', 'then', 'behind', 'these', 'ten', 'besides', 'indeed', 'yours', 'along', 'or', 'beforehand', 'last', 'be', 'so', 'them', 'move', 'while', 'within', 'a', 'anything', 'top', 'due', 'neither', 'she', \"'s\", \"'d\", 'together', 'front', 'seems', 'we', 'thus', 'anywhere', 'least', 'must', 'before', 'take', 'you', 'on', 'sometimes', '’s', 'herself', 'too', 'off', 'whole', 'become', 'thereby', 'even', 'about', 'doing', 'whenever', 'as', 'hundred', 'therein', 'full', 'every', 'i', 'hers', 'ca', 'out', 'all', 'again', 'latter', 'well', 'noone', 'who', 'that', 'with', \"n't\", 'forty', 'one', 'twelve', 'further', 'something', 'hereafter', 'say', 'toward', 'became', 'than', 'yourselves', '‘re', 'ourselves', 'himself', 'since', 'which', 'an', 'anyone', 'into', 'yourself', 'because', 'show', 'go', 'really', 'back', 'over', 'still', 'becoming', 'nine', 'thru', 'whose', 'nobody', 'sometime', 'hence', 'six', 'none', 'any', 'never', 'seeming', 'everyone', 'her', 'name', 'fifteen', 'him', 'serious', 'nevertheless', 'was', 'around', 'whether', 'wherein', 'between', 'eight', 'four', 'eleven', 'whatever', 'quite', 'nothing', 'amount', '’ve', 'someone', 'itself', 'although', 'elsewhere', 'unless', 'seem', 'first', 'without', 'both', 'regarding', 're', 'at', 'am', 'now', 'side', 'whoever', 'each', 'get', 'but', 'such', 'also', 'put', 'us', 'your', 'either', 'if', 'for', 'from', 'herein', 'is', 'most', 'n‘t', 'among', 'alone', 'beside', \"'re\", 'were', 'though', 'moreover', \"'m\", 'ever', 'nor', 'until', 'our', 'hereupon', 'whereupon', 'very', 'could', 'did', 'are', 'hereby', 'ours', 'per', 'bottom', 'where', 'to', 'whereas', 'namely', 'same', 'almost', 'some', 'by', 'thereafter', 'keep', 'call', 'how', 'less', 'somehow', 'however', 'down', 'does', 'been', 'may', 'under', 'few', 'and', 'up', 'when', 'twenty', 'below', 'formerly', 'fifty', 'anyhow', 'have', '’ll', 'it', 'upon', 'used', 'mine', 'the', 'he', 'cannot', 'whither', 'in', 'they', '‘s', 'give', 'several', 'other', 'everything', 'make', 'somewhere', 'perhaps', 'otherwise', 'what', 'onto', 'else', 'whom', 'latterly', 'others', 'had', 'this', 'already', 'everywhere', 'no', 'here', 'whence', 'two', 'those', 'please', 'much', 'should', 'part', 'might', 'three', 'always', 'can', 'many', 'another', 'via', 'myself', 'not', 'would', 'made', 'during', 'whereafter', 'five', 'themselves', 'sixty', 'through', '’d', 'once', 'my', 'there', \"'ve\", 'his', 'becomes'}\n"
          ]
        }
      ]
    }
  ]
}