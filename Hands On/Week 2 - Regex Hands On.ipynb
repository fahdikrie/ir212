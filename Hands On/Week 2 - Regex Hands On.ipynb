{
  "nbformat": 4,
  "nbformat_minor": 2,
  "metadata": {
    "colab": {
      "name": "Regex hands-on",
      "provenance": [],
      "collapsed_sections": []
    },
    "kernelspec": {
      "name": "python3",
      "display_name": "Python 3.9.6 64-bit"
    },
    "language_info": {
      "name": "python",
      "version": "3.9.6",
      "mimetype": "text/x-python",
      "codemirror_mode": {
        "name": "ipython",
        "version": 3
      },
      "pygments_lexer": "ipython3",
      "nbconvert_exporter": "python",
      "file_extension": ".py"
    },
    "interpreter": {
      "hash": "4cd7ab41f5fca4b9b44701077e38c5ffd31fe66a6cab21e0214b68d958d0e462"
    }
  },
  "cells": [
    {
      "cell_type": "markdown",
      "source": [
        "# Part 1: Regex"
      ],
      "metadata": {
        "id": "-JL8VRlY5IBM"
      }
    },
    {
      "cell_type": "code",
      "execution_count": 1,
      "source": [
        "import re\n",
        "\n",
        "txt = \"Dr. Mirna Adriani bercerita, bahwa Fasilkom UI memiliki mahasiswa sebanyak 1.700 orang, \" \\\n",
        "      \"dengan jumlah mahasiswi rata-rata 30%. Pada awal berdiri Fasilkom, Juli 1986, \" \\\n",
        "      \"jumlah mahasiswi hanya mencapai 20% saja! \" \\\n",
        "      \"20 tahun semenjak berdiri, Fasilkom membuka Prodi Sistem Informasi. \" \\\n",
        "      \"Sekarang Fasilkom berumur 34. \" \\\n",
        "      \"Nomor telepon Fasilkom adalah 9999 7777.\"\n",
        "\n",
        "txt"
      ],
      "outputs": [
        {
          "output_type": "execute_result",
          "data": {
            "text/plain": [
              "'Dr. Mirna Adriani bercerita, bahwa Fasilkom UI memiliki mahasiswa sebanyak 1.700 orang, dengan jumlah mahasiswi rata-rata 30%. Pada awal berdiri Fasilkom, Juli 1986, jumlah mahasiswi hanya mencapai 20% saja! 20 tahun semenjak berdiri, Fasilkom membuka Prodi Sistem Informasi. Sekarang Fasilkom berumur 34. Nomor telepon Fasilkom adalah 9999 7777.'"
            ]
          },
          "metadata": {},
          "execution_count": 1
        }
      ],
      "metadata": {
        "id": "IZh5JEzESufc",
        "colab": {
          "base_uri": "https://localhost:8080/",
          "height": 70
        },
        "outputId": "6bc33610-3991-4fee-ff6b-8c629656c7b2"
      }
    },
    {
      "cell_type": "code",
      "execution_count": 2,
      "source": [
        "# Extract all numerical data from text\n",
        "\n",
        "# numerical_pattern = \"\\d+\\.?\\d*%?\"\n",
        "numerical_pattern = \"(\\d{1,4}(?:\\.\\d{3})*)\"\n",
        "# numerical_pattern = \"(\\d{1,3}(\\.\\d{3})*)(,\\d+)?%?\"\n",
        "\n",
        "re.findall(numerical_pattern, txt)"
      ],
      "outputs": [
        {
          "output_type": "execute_result",
          "data": {
            "text/plain": [
              "['1.700', '30', '1986', '20', '20', '34', '9999', '7777']"
            ]
          },
          "metadata": {},
          "execution_count": 2
        }
      ],
      "metadata": {
        "id": "MSpJe2FzVxjM",
        "colab": {
          "base_uri": "https://localhost:8080/"
        },
        "outputId": "d6d0227c-9ce0-4141-cc6c-f7e8157846b8"
      }
    },
    {
      "cell_type": "code",
      "execution_count": 3,
      "source": [
        "# Extract all capitalized letter\n",
        "\n",
        "# capitalized_pattern = \"[A-Z]\\w*\"\n",
        "# capitalized_pattern = \"[A-Z]\\w*(?:\\s[A-Z]\\w*)*\"\n",
        "capitalized_pattern = \"([A-Z][a-z]+(?:\\s[A-Z][a-z]+)*)\"\n",
        "\n",
        "re.findall(capitalized_pattern, txt)"
      ],
      "outputs": [
        {
          "output_type": "execute_result",
          "data": {
            "text/plain": [
              "['Dr',\n",
              " 'Mirna Adriani',\n",
              " 'Fasilkom',\n",
              " 'Pada',\n",
              " 'Fasilkom',\n",
              " 'Juli',\n",
              " 'Fasilkom',\n",
              " 'Prodi Sistem Informasi',\n",
              " 'Sekarang Fasilkom',\n",
              " 'Nomor',\n",
              " 'Fasilkom']"
            ]
          },
          "metadata": {},
          "execution_count": 3
        }
      ],
      "metadata": {
        "id": "H82x5Hi7Fda9",
        "colab": {
          "base_uri": "https://localhost:8080/",
          "height": 210
        },
        "outputId": "a451d3f3-230b-4eb3-db9c-977fa41a03c5"
      }
    },
    {
      "cell_type": "code",
      "execution_count": 4,
      "source": [
        "# Extract all month-year in the text\n",
        "\n",
        "month_pattern = \"(?P<full>(?P<month>Januari|Februari|Maret|April|Mei|Juni|Juli|Agustus|September|Oktober|November|Desember) (?P<year>[1,2]?\\d{3}))\"\n",
        "# month_pattern = \"([A-Z]\\w+ \\d{1,4})\"\n",
        "\n",
        "match = re.search(month_pattern, txt)\n",
        "print(match.group('full'))\n",
        "print(match.group('month'))\n",
        "print(match.group('year'))\n",
        "\n",
        "findall = re.findall(month_pattern, txt)\n",
        "print(findall)"
      ],
      "outputs": [
        {
          "output_type": "stream",
          "name": "stdout",
          "text": [
            "Juli 1986\n",
            "Juli\n",
            "1986\n",
            "[('Juli 1986', 'Juli', '1986')]\n"
          ]
        }
      ],
      "metadata": {
        "id": "r0KuqSCpBvO6",
        "colab": {
          "base_uri": "https://localhost:8080/",
          "height": 34
        },
        "outputId": "d0dbbbb8-49d2-4c7d-958b-7c7431ece663"
      }
    },
    {
      "cell_type": "code",
      "execution_count": 5,
      "source": [
        "# extracting reduplication using backreference\n",
        "\n",
        "reduplication_pattern = \"((?P<first>\\w*)(-)(?P=first))\"\n",
        "\n",
        "re.findall(reduplication_pattern, txt)"
      ],
      "outputs": [
        {
          "output_type": "execute_result",
          "data": {
            "text/plain": [
              "[('rata-rata', 'rata', '-')]"
            ]
          },
          "metadata": {},
          "execution_count": 5
        }
      ],
      "metadata": {
        "id": "TbfhcTc7lCwq",
        "colab": {
          "base_uri": "https://localhost:8080/"
        },
        "outputId": "f980e773-ce3a-44b1-fc10-662c430a2e8e"
      }
    },
    {
      "cell_type": "code",
      "execution_count": 6,
      "source": [
        "# Segmenting text into sentences, then make it more accurate\n",
        "\n",
        "# segmenting_pattern = \"(?<!\\w\\.\\w.)(?<![A-Z][a-z]\\.)(?<=\\.|\\?)\\s\"\n",
        "exclusions = []\n",
        "\n",
        "segmenting_pattern = \"[^.!?]+\"\n",
        "findall = re.findall(segmenting_pattern, txt)\n",
        "print(findall)\n",
        "\n",
        "segmenting_splitting_pattern = \"([\\.!?])(?=\\s)\"\n",
        "splitted = re.split(segmenting_splitting_pattern, txt)\n",
        "print(splitted)\n",
        "\n",
        "\"\"\"\n",
        "Untuk ngehandle yg (Dr.)\n",
        "1. Keep list of exceptions untuk Dr., Mr., etc., atau pake regex yang motong angka\n",
        "2. Gunakan m.start() atau m.end() untuk tahu titik yg exception ada dimana\n",
        "3. Split di tanda baca yang bukan di exception\n",
        "\"\"\""
      ],
      "outputs": [
        {
          "output_type": "stream",
          "name": "stdout",
          "text": [
            "['Dr', ' Mirna Adriani bercerita, bahwa Fasilkom UI memiliki mahasiswa sebanyak 1', '700 orang, dengan jumlah mahasiswi rata-rata 30%', ' Pada awal berdiri Fasilkom, Juli 1986, jumlah mahasiswi hanya mencapai 20% saja', ' 20 tahun semenjak berdiri, Fasilkom membuka Prodi Sistem Informasi', ' Sekarang Fasilkom berumur 34', ' Nomor telepon Fasilkom adalah 9999 7777']\n",
            "['Dr', '.', ' Mirna Adriani bercerita, bahwa Fasilkom UI memiliki mahasiswa sebanyak 1.700 orang, dengan jumlah mahasiswi rata-rata 30%', '.', ' Pada awal berdiri Fasilkom, Juli 1986, jumlah mahasiswi hanya mencapai 20% saja', '!', ' 20 tahun semenjak berdiri, Fasilkom membuka Prodi Sistem Informasi', '.', ' Sekarang Fasilkom berumur 34', '.', ' Nomor telepon Fasilkom adalah 9999 7777.']\n"
          ]
        },
        {
          "output_type": "execute_result",
          "data": {
            "text/plain": [
              "'\\nUntuk ngehandle yg (Dr.)\\n1. Keep list of exceptions untuk Dr., Mr., etc., atau pake regex yang motong angka\\n2. Gunakan m.start() atau m.end() untuk tahu titik yg exception ada dimana\\n3. Split di tanda baca yang bukan di exception\\n'"
            ]
          },
          "metadata": {},
          "execution_count": 6
        }
      ],
      "metadata": {
        "id": "XvK7LmoraHD_",
        "colab": {
          "base_uri": "https://localhost:8080/"
        },
        "outputId": "a133feb5-cf63-4181-e9a1-8836e3bbc380"
      }
    },
    {
      "cell_type": "code",
      "execution_count": 7,
      "source": [
        "# tokenization with regex, then make it better (e.g. handle the phone number case)\n",
        "\n"
      ],
      "outputs": [],
      "metadata": {
        "id": "BDaZK5gArFFL",
        "colab": {
          "base_uri": "https://localhost:8080/",
          "height": 210
        },
        "outputId": "59a8b27f-624f-47ed-d323-c51738adcefc"
      }
    },
    {
      "cell_type": "markdown",
      "source": [
        "# Part 2: Available libraries: Stanza, NLTK, Spacy"
      ],
      "metadata": {
        "id": "J3G_RZ1M5RDt"
      }
    },
    {
      "cell_type": "code",
      "execution_count": 8,
      "source": [
        "!pip3 install stanza --default-timeout=100"
      ],
      "outputs": [
        {
          "output_type": "stream",
          "name": "stdout",
          "text": [
            "\u001b[33mDEPRECATION: Configuring installation scheme with distutils config files is deprecated and will no longer work in the near future. If you are using a Homebrew or Linuxbrew Python, please see discussion at https://github.com/Homebrew/homebrew-core/issues/76621\u001b[0m\n",
            "Requirement already satisfied: stanza in /usr/local/lib/python3.9/site-packages (1.2.3)\n",
            "Requirement already satisfied: tqdm in /usr/local/lib/python3.9/site-packages (from stanza) (4.62.2)\n",
            "Requirement already satisfied: protobuf in /usr/local/lib/python3.9/site-packages (from stanza) (3.17.3)\n",
            "Requirement already satisfied: torch>=1.3.0 in /usr/local/lib/python3.9/site-packages (from stanza) (1.9.0)\n",
            "Requirement already satisfied: requests in /usr/local/lib/python3.9/site-packages (from stanza) (2.26.0)\n",
            "Requirement already satisfied: numpy in /usr/local/lib/python3.9/site-packages (from stanza) (1.21.2)\n",
            "Requirement already satisfied: typing-extensions in /usr/local/lib/python3.9/site-packages (from torch>=1.3.0->stanza) (3.10.0.2)\n",
            "Requirement already satisfied: six>=1.9 in /usr/local/lib/python3.9/site-packages (from protobuf->stanza) (1.16.0)\n",
            "Requirement already satisfied: certifi>=2017.4.17 in /usr/local/lib/python3.9/site-packages (from requests->stanza) (2021.5.30)\n",
            "Requirement already satisfied: urllib3<1.27,>=1.21.1 in /usr/local/lib/python3.9/site-packages (from requests->stanza) (1.26.6)\n",
            "Requirement already satisfied: idna<4,>=2.5 in /usr/local/lib/python3.9/site-packages (from requests->stanza) (3.2)\n",
            "Requirement already satisfied: charset-normalizer~=2.0.0 in /usr/local/lib/python3.9/site-packages (from requests->stanza) (2.0.4)\n"
          ]
        }
      ],
      "metadata": {
        "id": "GBbBCeWDfV0K",
        "colab": {
          "base_uri": "https://localhost:8080/",
          "height": 265
        },
        "outputId": "40a985fc-5159-443d-d76f-c51b24de8251"
      }
    },
    {
      "cell_type": "code",
      "execution_count": 9,
      "source": [
        "# tokenizer stanza bersifat multilingual dan support bahasa indonesia\n",
        "import stanza\n",
        "\n",
        "stanza.download('id', processors='tokenize')\n",
        "nlp = stanza.Pipeline('id', processors='tokenize')"
      ],
      "outputs": [
        {
          "output_type": "stream",
          "name": "stderr",
          "text": [
            "Downloading https://raw.githubusercontent.com/stanfordnlp/stanza-resources/main/resources_1.2.2.json: 140kB [00:00, 17.1MB/s]                    \n",
            "2021-09-19 19:04:59 INFO: Downloading these customized packages for language: id (Indonesian)...\n",
            "=======================\n",
            "| Processor | Package |\n",
            "-----------------------\n",
            "| tokenize  | gsd     |\n",
            "=======================\n",
            "\n",
            "2021-09-19 19:04:59 INFO: File exists: /Users/fahdikrie/stanza_resources/id/tokenize/gsd.pt.\n",
            "2021-09-19 19:04:59 INFO: Finished downloading models and saved to /Users/fahdikrie/stanza_resources.\n",
            "2021-09-19 19:04:59 INFO: Loading these models for language: id (Indonesian):\n",
            "=======================\n",
            "| Processor | Package |\n",
            "-----------------------\n",
            "| tokenize  | gsd     |\n",
            "=======================\n",
            "\n",
            "2021-09-19 19:04:59 INFO: Use device: cpu\n",
            "2021-09-19 19:04:59 INFO: Loading: tokenize\n",
            "2021-09-19 19:04:59 INFO: Done loading processors!\n"
          ]
        }
      ],
      "metadata": {
        "id": "qEgm6CYJqqu8",
        "colab": {
          "base_uri": "https://localhost:8080/",
          "height": 368
        },
        "outputId": "78e8b43f-c160-4656-9a73-8f7bf23b5d7c"
      }
    },
    {
      "cell_type": "code",
      "execution_count": 10,
      "source": [
        "txt = \"Dr. Mirna Adriani bercerita, bahwa Fasilkom UI memiliki mahasiswa sebanyak 1.700 orang, \" \\\n",
        "      \"dengan jumlah mahasiswi rata-rata 30%. Pada awal berdiri Fasilkom, Juli 1986, \" \\\n",
        "      \"jumlah mahasiswi hanya mencapai 20% saja! \" \\\n",
        "      \"20 tahun semenjak berdiri, Fasilkom membuka Prodi Sistem Informasi. \" \\\n",
        "      \"Sekarang Fasilkom berumur 34. \" \\\n",
        "      \"Nomor telepon Fasilkom adalah +62-21 5557 2819.\"\n",
        "\n",
        "doc = nlp(txt)\n",
        "for sentence in doc.sentences:\n",
        "  print([word.text for word in sentence.words])\n",
        "\n",
        "# NOTE: Masih ada salah, yang \"!\" masih dianggap satu sentence"
      ],
      "outputs": [
        {
          "output_type": "stream",
          "name": "stdout",
          "text": [
            "['Dr', '.', 'Mirna', 'Adriani', 'bercerita', ',', 'bahwa', 'Fasilkom', 'UI', 'memiliki', 'mahasiswa', 'sebanyak', '1.700', 'orang', ',', 'dengan', 'jumlah', 'mahasiswi', 'rata-rata', '30', '%', '.']\n",
            "['Pada', 'awal', 'berdiri', 'Fasilkom', ',', 'Juli', '1986', ',', 'jumlah', 'mahasiswi', 'hanya', 'mencapai', '20', '%', 'saja', '!', '20', 'tahun', 'semenjak', 'berdiri', ',', 'Fasilkom', 'membuka', 'Prodi', 'Sistem', 'Informasi', '.']\n",
            "['Sekarang', 'Fasilkom', 'berumur', '34', '.']\n",
            "['Nomor', 'telepon', 'Fasilkom', 'adalah', '+62-21', '5557', '2819', '.']\n"
          ]
        }
      ],
      "metadata": {
        "id": "oyrFjFb4toUp",
        "colab": {
          "base_uri": "https://localhost:8080/",
          "height": 107
        },
        "outputId": "5dd3e604-3baf-4e5d-8d5a-881605f32dcb"
      }
    },
    {
      "cell_type": "code",
      "execution_count": 11,
      "source": [
        "# NLTK memiliki beberapa versi tokenizer\n",
        "# - Algorithmic: berbasiskan pada punctuation dan spasi, tapi bisa diperkaya dengan regex (RegexpTokenizer) atau frase-frase khusus (MWETokenizer)\n",
        "# - Berbasiskan model machine-learning ('punkt') yang dilatih secara 'unsupervised'\n",
        "# - TweetTokenizer: tokenizer spesial yang dilatih dengan data twitter sehingga memperhatikan hal-hal seperti emoticon dan hashtag\n",
        "# -- Library lain yang khusus untuk twitter dan lebih sophisticated: https://github.com/cbaziotis/ekphrasis\n",
        "# Model punkt yang tersedia di NLTK dilatih di Bahasa Inggris\n",
        "# Model punkt ini sudah bekerja dengan cukup baik di Bahasa Indonesia, namun jika ditemukan kesalahan, kita bisa membuat model punkt custom\n",
        "# contoh kodenya: https://stackoverflow.com/questions/21160310/training-data-format-for-nltk-punkt\n",
        "\n",
        "!pip3 install nltk --default-timeout=100\n",
        "import nltk\n",
        "nltk.download('punkt')\n",
        "\n",
        "sent_text = nltk.sent_tokenize(txt) # this gives us a list of sentences\n",
        "# now loop over each sentence and tokenize it separately\n",
        "for sentence in sent_text:\n",
        "    tokenized_text = nltk.word_tokenize(sentence)\n",
        "    print(tokenized_text)"
      ],
      "outputs": [
        {
          "output_type": "stream",
          "name": "stdout",
          "text": [
            "\u001b[33mDEPRECATION: Configuring installation scheme with distutils config files is deprecated and will no longer work in the near future. If you are using a Homebrew or Linuxbrew Python, please see discussion at https://github.com/Homebrew/homebrew-core/issues/76621\u001b[0m\n",
            "Requirement already satisfied: nltk in /usr/local/lib/python3.9/site-packages (3.6.2)\n",
            "Requirement already satisfied: tqdm in /usr/local/lib/python3.9/site-packages (from nltk) (4.62.2)\n",
            "Requirement already satisfied: regex in /usr/local/lib/python3.9/site-packages (from nltk) (2021.8.28)\n",
            "Requirement already satisfied: click in /usr/local/lib/python3.9/site-packages (from nltk) (8.0.1)\n",
            "Requirement already satisfied: joblib in /usr/local/lib/python3.9/site-packages (from nltk) (1.0.1)\n",
            "['Dr.', 'Mirna', 'Adriani', 'bercerita', ',', 'bahwa', 'Fasilkom', 'UI', 'memiliki', 'mahasiswa', 'sebanyak', '1.700', 'orang', ',', 'dengan', 'jumlah', 'mahasiswi', 'rata-rata', '30', '%', '.']\n",
            "['Pada', 'awal', 'berdiri', 'Fasilkom', ',', 'Juli', '1986', ',', 'jumlah', 'mahasiswi', 'hanya', 'mencapai', '20', '%', 'saja', '!']\n",
            "['20', 'tahun', 'semenjak', 'berdiri', ',', 'Fasilkom', 'membuka', 'Prodi', 'Sistem', 'Informasi', '.']\n",
            "['Sekarang', 'Fasilkom', 'berumur', '34', '.']\n",
            "['Nomor', 'telepon', 'Fasilkom', 'adalah', '+62-21', '5557', '2819', '.']\n"
          ]
        },
        {
          "output_type": "stream",
          "name": "stderr",
          "text": [
            "[nltk_data] Downloading package punkt to /Users/fahdikrie/nltk_data...\n",
            "[nltk_data]   Package punkt is already up-to-date!\n"
          ]
        }
      ],
      "metadata": {
        "id": "-bZyAAiavOFd",
        "colab": {
          "base_uri": "https://localhost:8080/",
          "height": 195
        },
        "outputId": "de96d97b-ce19-4ce2-a62d-6994a2c3cdf5"
      }
    },
    {
      "cell_type": "code",
      "execution_count": 12,
      "source": [
        "# NLTK juga memiliki list of stopwords, di berbagai bahasa\n",
        "import nltk\n",
        "nltk.download('stopwords')\n",
        "print(stopwords.words('english'))\n",
        "print(stopwords.words('indonesian'))"
      ],
      "outputs": [
        {
          "output_type": "stream",
          "name": "stderr",
          "text": [
            "[nltk_data] Downloading package stopwords to\n",
            "[nltk_data]     /Users/fahdikrie/nltk_data...\n",
            "[nltk_data]   Unzipping corpora/stopwords.zip.\n"
          ]
        },
        {
          "output_type": "error",
          "ename": "NameError",
          "evalue": "name 'stopwords' is not defined",
          "traceback": [
            "\u001b[0;31m---------------------------------------------------------------------------\u001b[0m",
            "\u001b[0;31mNameError\u001b[0m                                 Traceback (most recent call last)",
            "\u001b[0;32m/var/folders/4y/f7n6cknn4dd3pvy303271wjh0000gn/T/ipykernel_48239/4279702039.py\u001b[0m in \u001b[0;36m<module>\u001b[0;34m\u001b[0m\n\u001b[1;32m      2\u001b[0m \u001b[0;32mimport\u001b[0m \u001b[0mnltk\u001b[0m\u001b[0;34m\u001b[0m\u001b[0;34m\u001b[0m\u001b[0m\n\u001b[1;32m      3\u001b[0m \u001b[0mnltk\u001b[0m\u001b[0;34m.\u001b[0m\u001b[0mdownload\u001b[0m\u001b[0;34m(\u001b[0m\u001b[0;34m'stopwords'\u001b[0m\u001b[0;34m)\u001b[0m\u001b[0;34m\u001b[0m\u001b[0;34m\u001b[0m\u001b[0m\n\u001b[0;32m----> 4\u001b[0;31m \u001b[0mprint\u001b[0m\u001b[0;34m(\u001b[0m\u001b[0mstopwords\u001b[0m\u001b[0;34m.\u001b[0m\u001b[0mwords\u001b[0m\u001b[0;34m(\u001b[0m\u001b[0;34m'english'\u001b[0m\u001b[0;34m)\u001b[0m\u001b[0;34m)\u001b[0m\u001b[0;34m\u001b[0m\u001b[0;34m\u001b[0m\u001b[0m\n\u001b[0m\u001b[1;32m      5\u001b[0m \u001b[0mprint\u001b[0m\u001b[0;34m(\u001b[0m\u001b[0mstopwords\u001b[0m\u001b[0;34m.\u001b[0m\u001b[0mwords\u001b[0m\u001b[0;34m(\u001b[0m\u001b[0;34m'indonesian'\u001b[0m\u001b[0;34m)\u001b[0m\u001b[0;34m)\u001b[0m\u001b[0;34m\u001b[0m\u001b[0;34m\u001b[0m\u001b[0m\n",
            "\u001b[0;31mNameError\u001b[0m: name 'stopwords' is not defined"
          ]
        }
      ],
      "metadata": {
        "colab": {
          "base_uri": "https://localhost:8080/"
        },
        "id": "I6iErKwG_r8S",
        "outputId": "314ebde4-eafb-4316-c2c8-adbafabe620c"
      }
    },
    {
      "cell_type": "code",
      "execution_count": null,
      "source": [
        "# Snowball stemmer di NLTK; support beberapa bahasa namun tidak Bahasa Indonesia\n",
        "from nltk.stem import SnowballStemmer\n",
        "stemmer = SnowballStemmer(\"german\")\n",
        "stemmer.stem(\"Autobahnen\") #highway/jalan tol, plural"
      ],
      "outputs": [
        {
          "output_type": "execute_result",
          "data": {
            "application/vnd.google.colaboratory.intrinsic+json": {
              "type": "string"
            },
            "text/plain": [
              "'autobahn'"
            ]
          },
          "metadata": {},
          "execution_count": 19
        }
      ],
      "metadata": {
        "colab": {
          "base_uri": "https://localhost:8080/",
          "height": 35
        },
        "id": "b7uGDkaLADwi",
        "outputId": "fcc4cd53-ade5-45b3-e119-bddce65e5ba5"
      }
    },
    {
      "cell_type": "code",
      "execution_count": null,
      "source": [
        "#spacy tokenizers and stopwords are language-specific, but there are no Indonesian yet\n",
        "from spacy.lang.en import English\n",
        "nlp = English()\n",
        "\n",
        "tokens = nlp.tokenizer(txt)\n",
        "for token in tokens:\n",
        "  print(token.text)\n",
        "\n",
        "print(nlp.Defaults.stop_words)"
      ],
      "outputs": [
        {
          "output_type": "stream",
          "name": "stdout",
          "text": [
            "Dr.\n",
            "Mirna\n",
            "Adriani\n",
            "bercerita\n",
            ",\n",
            "bahwa\n",
            "Fasilkom\n",
            "UI\n",
            "memiliki\n",
            "mahasiswa\n",
            "sebanyak\n",
            "1.700\n",
            "orang\n",
            ",\n",
            "dengan\n",
            "jumlah\n",
            "mahasiswi\n",
            "rata\n",
            "-\n",
            "rata\n",
            "30\n",
            "%\n",
            ".\n",
            "Pada\n",
            "awal\n",
            "berdiri\n",
            "Fasilkom\n",
            ",\n",
            "Juli\n",
            "1986\n",
            ",\n",
            "jumlah\n",
            "mahasiswi\n",
            "hanya\n",
            "mencapai\n",
            "20\n",
            "%\n",
            "saja\n",
            "!\n",
            "20\n",
            "tahun\n",
            "semenjak\n",
            "berdiri\n",
            ",\n",
            "Fasilkom\n",
            "membuka\n",
            "Prodi\n",
            "Sistem\n",
            "Informasi\n",
            ".\n",
            "Sekarang\n",
            "Fasilkom\n",
            "berumur\n",
            "34\n",
            ".\n",
            "Nomor\n",
            "telepon\n",
            "Fasilkom\n",
            "adalah\n",
            "9999\n",
            "7777\n",
            ".\n",
            "{'just', 'thereupon', 'enough', 'former', 'of', 'throughout', 'therefore', 'own', 'their', 'whereby', 'me', '’re', 'n’t', 'various', 'thence', 'its', 'wherever', 'often', 'towards', 'mostly', 'amongst', 'third', 'except', 'afterwards', 'seemed', 'nowhere', 'has', 'being', 'do', 'more', '‘d', 'meanwhile', 'anyway', 'empty', 'only', 'above', 'done', 'yet', 'against', '’m', 'see', 'will', \"'ll\", 'after', 'across', '‘ve', '‘ll', 'using', 'next', '‘m', 'rather', 'beyond', 'why', 'then', 'behind', 'these', 'ten', 'besides', 'indeed', 'yours', 'along', 'or', 'beforehand', 'last', 'be', 'so', 'them', 'move', 'while', 'within', 'a', 'anything', 'top', 'due', 'neither', 'she', \"'s\", \"'d\", 'together', 'front', 'seems', 'we', 'thus', 'anywhere', 'least', 'must', 'before', 'take', 'you', 'on', 'sometimes', '’s', 'herself', 'too', 'off', 'whole', 'become', 'thereby', 'even', 'about', 'doing', 'whenever', 'as', 'hundred', 'therein', 'full', 'every', 'i', 'hers', 'ca', 'out', 'all', 'again', 'latter', 'well', 'noone', 'who', 'that', 'with', \"n't\", 'forty', 'one', 'twelve', 'further', 'something', 'hereafter', 'say', 'toward', 'became', 'than', 'yourselves', '‘re', 'ourselves', 'himself', 'since', 'which', 'an', 'anyone', 'into', 'yourself', 'because', 'show', 'go', 'really', 'back', 'over', 'still', 'becoming', 'nine', 'thru', 'whose', 'nobody', 'sometime', 'hence', 'six', 'none', 'any', 'never', 'seeming', 'everyone', 'her', 'name', 'fifteen', 'him', 'serious', 'nevertheless', 'was', 'around', 'whether', 'wherein', 'between', 'eight', 'four', 'eleven', 'whatever', 'quite', 'nothing', 'amount', '’ve', 'someone', 'itself', 'although', 'elsewhere', 'unless', 'seem', 'first', 'without', 'both', 'regarding', 're', 'at', 'am', 'now', 'side', 'whoever', 'each', 'get', 'but', 'such', 'also', 'put', 'us', 'your', 'either', 'if', 'for', 'from', 'herein', 'is', 'most', 'n‘t', 'among', 'alone', 'beside', \"'re\", 'were', 'though', 'moreover', \"'m\", 'ever', 'nor', 'until', 'our', 'hereupon', 'whereupon', 'very', 'could', 'did', 'are', 'hereby', 'ours', 'per', 'bottom', 'where', 'to', 'whereas', 'namely', 'same', 'almost', 'some', 'by', 'thereafter', 'keep', 'call', 'how', 'less', 'somehow', 'however', 'down', 'does', 'been', 'may', 'under', 'few', 'and', 'up', 'when', 'twenty', 'below', 'formerly', 'fifty', 'anyhow', 'have', '’ll', 'it', 'upon', 'used', 'mine', 'the', 'he', 'cannot', 'whither', 'in', 'they', '‘s', 'give', 'several', 'other', 'everything', 'make', 'somewhere', 'perhaps', 'otherwise', 'what', 'onto', 'else', 'whom', 'latterly', 'others', 'had', 'this', 'already', 'everywhere', 'no', 'here', 'whence', 'two', 'those', 'please', 'much', 'should', 'part', 'might', 'three', 'always', 'can', 'many', 'another', 'via', 'myself', 'not', 'would', 'made', 'during', 'whereafter', 'five', 'themselves', 'sixty', 'through', '’d', 'once', 'my', 'there', \"'ve\", 'his', 'becomes'}\n"
          ]
        }
      ],
      "metadata": {
        "colab": {
          "base_uri": "https://localhost:8080/"
        },
        "id": "cji7SVFq5YXv",
        "outputId": "452e3e52-689e-482b-d534-36dcc60c77b8"
      }
    }
  ]
}