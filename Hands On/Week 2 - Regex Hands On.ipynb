{
  "nbformat": 4,
  "nbformat_minor": 2,
  "metadata": {
    "colab": {
      "name": "Regex hands-on",
      "provenance": [],
      "collapsed_sections": []
    },
    "kernelspec": {
      "name": "python3",
      "display_name": "Python 3.9.6 64-bit"
    },
    "language_info": {
      "name": "python",
      "version": "3.9.6"
    },
    "interpreter": {
      "hash": "4cd7ab41f5fca4b9b44701077e38c5ffd31fe66a6cab21e0214b68d958d0e462"
    }
  },
  "cells": [
    {
      "cell_type": "markdown",
      "source": [
        "# Part 1: Regex"
      ],
      "metadata": {
        "id": "-JL8VRlY5IBM"
      }
    },
    {
      "cell_type": "code",
      "execution_count": 68,
      "source": [
        "import re\n",
        "\n",
        "txt = \"Dr. Mirna Adriani bercerita, bahwa Fasilkom UI memiliki mahasiswa sebanyak 1.700 orang, \" \\\n",
        "      \"dengan jumlah mahasiswi rata-rata 30%. Pada awal berdiri Fasilkom, Juli 1986, \" \\\n",
        "      \"jumlah mahasiswi hanya mencapai 20% saja! \" \\\n",
        "      \"20 tahun semenjak berdiri, Fasilkom membuka Prodi Sistem Informasi. \" \\\n",
        "      \"Sekarang Fasilkom berumur 34. \" \\\n",
        "      \"Nomor telepon Fasilkom adalah 9999 7777.\"\n",
        "\n",
        "txt"
      ],
      "outputs": [
        {
          "output_type": "execute_result",
          "data": {
            "text/plain": [
              "'Dr. Mirna Adriani bercerita, bahwa Fasilkom UI memiliki mahasiswa sebanyak 1.700 orang, dengan jumlah mahasiswi rata-rata 30%. Pada awal berdiri Fasilkom, Juli 1986, jumlah mahasiswi hanya mencapai 20% saja! 20 tahun semenjak berdiri, Fasilkom membuka Prodi Sistem Informasi. Sekarang Fasilkom berumur 34. Nomor telepon Fasilkom adalah 9999 7777.'"
            ]
          },
          "metadata": {},
          "execution_count": 68
        }
      ],
      "metadata": {
        "id": "IZh5JEzESufc",
        "colab": {
          "base_uri": "https://localhost:8080/",
          "height": 70
        },
        "outputId": "6bc33610-3991-4fee-ff6b-8c629656c7b2"
      }
    },
    {
      "cell_type": "code",
      "execution_count": 69,
      "source": [
        "# Extract all numerical data from text\n",
        "\n",
        "# numerical_pattern = \"\\d+\\.?\\d*%?\"\n",
        "numerical_pattern = \"(\\d{1,4}(?:\\.\\d{3})*)\"\n",
        "# numerical_pattern = \"(\\d{1,3}(\\.\\d{3})*)(,\\d+)?%?\"\n",
        "\n",
        "re.findall(numerical_pattern, txt)"
      ],
      "outputs": [
        {
          "output_type": "execute_result",
          "data": {
            "text/plain": [
              "['1.700', '30', '1986', '20', '20', '34', '9999', '7777']"
            ]
          },
          "metadata": {},
          "execution_count": 69
        }
      ],
      "metadata": {
        "id": "MSpJe2FzVxjM",
        "colab": {
          "base_uri": "https://localhost:8080/"
        },
        "outputId": "d6d0227c-9ce0-4141-cc6c-f7e8157846b8"
      }
    },
    {
      "cell_type": "code",
      "execution_count": 70,
      "source": [
        "# Extract all capitalized letter\n",
        "\n",
        "# capitalized_pattern = \"[A-Z]\\w*\"\n",
        "# capitalized_pattern = \"[A-Z]\\w*(?:\\s[A-Z]\\w*)*\"\n",
        "capitalized_pattern = \"([A-Z][a-z]+(?:\\s[A-Z][a-z]+)*)\"\n",
        "\n",
        "re.findall(capitalized_pattern, txt)"
      ],
      "outputs": [
        {
          "output_type": "execute_result",
          "data": {
            "text/plain": [
              "['Dr',\n",
              " 'Mirna Adriani',\n",
              " 'Fasilkom',\n",
              " 'Pada',\n",
              " 'Fasilkom',\n",
              " 'Juli',\n",
              " 'Fasilkom',\n",
              " 'Prodi Sistem Informasi',\n",
              " 'Sekarang Fasilkom',\n",
              " 'Nomor',\n",
              " 'Fasilkom']"
            ]
          },
          "metadata": {},
          "execution_count": 70
        }
      ],
      "metadata": {
        "id": "H82x5Hi7Fda9",
        "colab": {
          "base_uri": "https://localhost:8080/",
          "height": 210
        },
        "outputId": "a451d3f3-230b-4eb3-db9c-977fa41a03c5"
      }
    },
    {
      "cell_type": "code",
      "execution_count": null,
      "source": [
        "# Extract all month-year in the text\n",
        "\n",
        "month_pattern = \"(?P<full>(?P<month>Januari|Februari|Maret|April|Mei|Juni|Juli|Agustus|September|Oktober|November|Desember) (?P<year>[1,2]?\\d{3}))\"\n",
        "# month_pattern = \"([A-Z]\\w+ \\d{1,4})\"\n",
        "\n",
        "match = re.search(month_pattern, txt)\n",
        "print(match.group('full'))\n",
        "print(match.group('month'))\n",
        "print(match.group('year'))\n",
        "\n",
        "findall = re.findall(month_pattern, txt)\n",
        "print(findall)"
      ],
      "outputs": [
        {
          "output_type": "stream",
          "name": "stdout",
          "text": [
            "Juli 1986\n",
            "Juli\n",
            "1986\n",
            "[('Juli 1986', 'Juli', '1986')]\n"
          ]
        }
      ],
      "metadata": {
        "id": "r0KuqSCpBvO6",
        "colab": {
          "base_uri": "https://localhost:8080/",
          "height": 34
        },
        "outputId": "d0dbbbb8-49d2-4c7d-958b-7c7431ece663"
      }
    },
    {
      "cell_type": "code",
      "execution_count": null,
      "source": [
        "# extracting reduplication using backreference\n",
        "\n",
        "reduplication_pattern = \"((?P<first>\\w*)(-)(?P=first))\"\n",
        "\n",
        "re.findall(reduplication_pattern, txt)"
      ],
      "outputs": [
        {
          "output_type": "execute_result",
          "data": {
            "text/plain": [
              "[('rata-rata', 'rata', '-')]"
            ]
          },
          "metadata": {},
          "execution_count": 62
        }
      ],
      "metadata": {
        "id": "TbfhcTc7lCwq",
        "colab": {
          "base_uri": "https://localhost:8080/"
        },
        "outputId": "f980e773-ce3a-44b1-fc10-662c430a2e8e"
      }
    },
    {
      "cell_type": "code",
      "execution_count": 80,
      "source": [
        "# Segmenting text into sentences, then make it more accurate\n",
        "\n",
        "# segmenting_pattern = \"(?<!\\w\\.\\w.)(?<![A-Z][a-z]\\.)(?<=\\.|\\?)\\s\"\n",
        "exclusions = []\n",
        "\n",
        "segmenting_pattern = \"[^.!?]+\"\n",
        "findall = re.findall(segmenting_pattern, txt)\n",
        "print(findall)\n",
        "\n",
        "segmenting_splitting_pattern = \"([\\.!?])(?=\\s)\"\n",
        "splitted = re.split(segmenting_splitting_pattern, txt)\n",
        "print(splitted)\n",
        "\n",
        "\"\"\"\n",
        "Untuk ngehandle yg (Dr.)\n",
        "1. Keep list of exceptions untuk Dr., Mr., etc., atau pake regex yang motong angka\n",
        "2. Gunakan m.start() atau m.end() untuk tahu titik yg exception ada dimana\n",
        "3. Split di tanda baca yang bukan di exception\n",
        "\"\"\""
      ],
      "outputs": [
        {
          "output_type": "stream",
          "name": "stdout",
          "text": [
            "['Dr', ' Mirna Adriani bercerita, bahwa Fasilkom UI memiliki mahasiswa sebanyak 1', '700 orang, dengan jumlah mahasiswi rata-rata 30%', ' Pada awal berdiri Fasilkom, Juli 1986, jumlah mahasiswi hanya mencapai 20% saja', ' 20 tahun semenjak berdiri, Fasilkom membuka Prodi Sistem Informasi', ' Sekarang Fasilkom berumur 34', ' Nomor telepon Fasilkom adalah 9999 7777']\n",
            "['Dr', '.', ' Mirna Adriani bercerita, bahwa Fasilkom UI memiliki mahasiswa sebanyak 1.700 orang, dengan jumlah mahasiswi rata-rata 30%', '.', ' Pada awal berdiri Fasilkom, Juli 1986, jumlah mahasiswi hanya mencapai 20% saja', '!', ' 20 tahun semenjak berdiri, Fasilkom membuka Prodi Sistem Informasi', '.', ' Sekarang Fasilkom berumur 34', '.', ' Nomor telepon Fasilkom adalah 9999 7777.']\n"
          ]
        }
      ],
      "metadata": {
        "id": "XvK7LmoraHD_",
        "colab": {
          "base_uri": "https://localhost:8080/"
        },
        "outputId": "a133feb5-cf63-4181-e9a1-8836e3bbc380"
      }
    },
    {
      "cell_type": "code",
      "execution_count": null,
      "source": [
        "# tokenization with regex, then make it better (e.g. handle the phone number case)\n",
        "\n"
      ],
      "outputs": [],
      "metadata": {
        "id": "BDaZK5gArFFL",
        "colab": {
          "base_uri": "https://localhost:8080/",
          "height": 210
        },
        "outputId": "59a8b27f-624f-47ed-d323-c51738adcefc"
      }
    },
    {
      "cell_type": "markdown",
      "source": [
        "# Part 2: Available libraries: Stanza, NLTK, Spacy"
      ],
      "metadata": {
        "id": "J3G_RZ1M5RDt"
      }
    },
    {
      "cell_type": "code",
      "execution_count": 66,
      "source": [
        "!pip3 install stanza --default-timeout=100"
      ],
      "outputs": [
        {
          "output_type": "stream",
          "name": "stdout",
          "text": [
            "\u001b[33mDEPRECATION: Configuring installation scheme with distutils config files is deprecated and will no longer work in the near future. If you are using a Homebrew or Linuxbrew Python, please see discussion at https://github.com/Homebrew/homebrew-core/issues/76621\u001b[0m\n",
            "Requirement already satisfied: stanza in /usr/local/lib/python3.9/site-packages (1.2.3)\n",
            "Requirement already satisfied: torch>=1.3.0 in /usr/local/lib/python3.9/site-packages (from stanza) (1.9.0)\n",
            "Requirement already satisfied: requests in /usr/local/lib/python3.9/site-packages (from stanza) (2.26.0)\n",
            "Requirement already satisfied: tqdm in /usr/local/lib/python3.9/site-packages (from stanza) (4.62.2)\n",
            "Requirement already satisfied: numpy in /usr/local/lib/python3.9/site-packages (from stanza) (1.21.2)\n",
            "Requirement already satisfied: protobuf in /usr/local/lib/python3.9/site-packages (from stanza) (3.17.3)\n",
            "Requirement already satisfied: typing-extensions in /usr/local/lib/python3.9/site-packages (from torch>=1.3.0->stanza) (3.10.0.2)\n",
            "Requirement already satisfied: six>=1.9 in /usr/local/lib/python3.9/site-packages (from protobuf->stanza) (1.16.0)\n",
            "Requirement already satisfied: urllib3<1.27,>=1.21.1 in /usr/local/lib/python3.9/site-packages (from requests->stanza) (1.26.6)\n",
            "Requirement already satisfied: charset-normalizer~=2.0.0 in /usr/local/lib/python3.9/site-packages (from requests->stanza) (2.0.4)\n",
            "Requirement already satisfied: certifi>=2017.4.17 in /usr/local/lib/python3.9/site-packages (from requests->stanza) (2021.5.30)\n",
            "Requirement already satisfied: idna<4,>=2.5 in /usr/local/lib/python3.9/site-packages (from requests->stanza) (3.2)\n"
          ]
        }
      ],
      "metadata": {
        "id": "GBbBCeWDfV0K",
        "colab": {
          "base_uri": "https://localhost:8080/",
          "height": 265
        },
        "outputId": "40a985fc-5159-443d-d76f-c51b24de8251"
      }
    },
    {
      "cell_type": "code",
      "execution_count": 65,
      "source": [
        "# tokenizer stanza bersifat multilingual dan support bahasa indonesia\n",
        "import stanza\n",
        "\n",
        "stanza.download('id', processors='tokenize')\n",
        "nlp = stanza.Pipeline('id', processors='tokenize')"
      ],
      "outputs": [
        {
          "output_type": "stream",
          "name": "stderr",
          "text": [
            "Downloading https://raw.githubusercontent.com/stanfordnlp/stanza-resources/main/resources_1.2.2.json: 140kB [00:00, 316kB/s]\n",
            "2021-09-10 15:38:02 INFO: Downloading these customized packages for language: id (Indonesian)...\n",
            "=======================\n",
            "| Processor | Package |\n",
            "-----------------------\n",
            "| tokenize  | gsd     |\n",
            "=======================\n",
            "\n",
            "Downloading http://nlp.stanford.edu/software/stanza/1.2.2/id/tokenize/gsd.pt: 100%|██████████| 656k/656k [00:00<00:00, 791kB/s]\n",
            "2021-09-10 15:38:06 INFO: Finished downloading models and saved to /Users/fahdikrie/stanza_resources.\n",
            "2021-09-10 15:38:06 INFO: Loading these models for language: id (Indonesian):\n",
            "=======================\n",
            "| Processor | Package |\n",
            "-----------------------\n",
            "| tokenize  | gsd     |\n",
            "=======================\n",
            "\n",
            "2021-09-10 15:38:06 INFO: Use device: cpu\n",
            "2021-09-10 15:38:06 INFO: Loading: tokenize\n",
            "2021-09-10 15:38:06 INFO: Done loading processors!\n"
          ]
        }
      ],
      "metadata": {
        "id": "qEgm6CYJqqu8",
        "colab": {
          "base_uri": "https://localhost:8080/",
          "height": 368
        },
        "outputId": "78e8b43f-c160-4656-9a73-8f7bf23b5d7c"
      }
    },
    {
      "cell_type": "code",
      "execution_count": null,
      "source": [
        "txt = \"Dr. Mirna Adriani bercerita, bahwa Fasilkom UI memiliki mahasiswa sebanyak 1.700 orang, \" \\\n",
        "      \"dengan jumlah mahasiswi rata-rata 30%. Pada awal berdiri Fasilkom, Juli 1986, \" \\\n",
        "      \"jumlah mahasiswi hanya mencapai 20% saja! \" \\\n",
        "      \"20 tahun semenjak berdiri, Fasilkom membuka Prodi Sistem Informasi. \" \\\n",
        "      \"Sekarang Fasilkom berumur 34. \" \\\n",
        "      \"Nomor telepon Fasilkom adalah +62-21 5557 2819.\"\n",
        "\n",
        "doc = nlp(txt)\n",
        "for sentence in doc.sentences:\n",
        "  print([word.text for word in sentence.words])\n",
        "\n",
        "# NOTE: Masih ada salah, yang \"!\" masih dianggap satu sentence"
      ],
      "outputs": [
        {
          "output_type": "stream",
          "name": "stdout",
          "text": [
            "['Dr', '.', 'Mirna', 'Adriani', 'bercerita', ',', 'bahwa', 'Fasilkom', 'UI', 'memiliki', 'mahasiswa', 'sebanyak', '1.700', 'orang', ',', 'dengan', 'jumlah', 'mahasiswi', 'rata-rata', '30', '%', '.']\n",
            "['Pada', 'awal', 'berdiri', 'Fasilkom', ',', 'Juli', '1986', ',', 'jumlah', 'mahasiswi', 'hanya', 'mencapai', '20', '%', 'saja', '!', '20', 'tahun', 'semenjak', 'berdiri', ',', 'Fasilkom', 'membuka', 'Prodi', 'Sistem', 'Informasi', '.']\n",
            "['Sekarang', 'Fasilkom', 'berumur', '34', '.']\n",
            "['Nomor', 'telepon', 'Fasilkom', 'adalah', '+62-21', '5557', '2819', '.']\n"
          ]
        }
      ],
      "metadata": {
        "id": "oyrFjFb4toUp",
        "colab": {
          "base_uri": "https://localhost:8080/",
          "height": 107
        },
        "outputId": "5dd3e604-3baf-4e5d-8d5a-881605f32dcb"
      }
    },
    {
      "cell_type": "code",
      "execution_count": null,
      "source": [
        "# NLTK memiliki beberapa versi tokenizer\n",
        "# - Algorithmic: berbasiskan pada punctuation dan spasi, tapi bisa diperkaya dengan regex (RegexpTokenizer) atau frase-frase khusus (MWETokenizer)\n",
        "# - Berbasiskan model machine-learning ('punkt') yang dilatih secara 'unsupervised'\n",
        "# - TweetTokenizer: tokenizer spesial yang dilatih dengan data twitter sehingga memperhatikan hal-hal seperti emoticon dan hashtag\n",
        "# -- Library lain yang khusus untuk twitter dan lebih sophisticated: https://github.com/cbaziotis/ekphrasis\n",
        "# Model punkt yang tersedia di NLTK dilatih di Bahasa Inggris\n",
        "# Model punkt ini sudah bekerja dengan cukup baik di Bahasa Indonesia, namun jika ditemukan kesalahan, kita bisa membuat model punkt custom\n",
        "# contoh kodenya: https://stackoverflow.com/questions/21160310/training-data-format-for-nltk-punkt\n",
        "\n",
        "!pip install nltk\n",
        "import nltk\n",
        "nltk.download('punkt')\n",
        "\n",
        "sent_text = nltk.sent_tokenize(txt) # this gives us a list of sentences\n",
        "# now loop over each sentence and tokenize it separately\n",
        "for sentence in sent_text:\n",
        "    tokenized_text = nltk.word_tokenize(sentence)\n",
        "    print(tokenized_text)"
      ],
      "outputs": [
        {
          "output_type": "stream",
          "name": "stdout",
          "text": [
            "Requirement already satisfied: nltk in /usr/local/lib/python3.6/dist-packages (3.2.5)\n",
            "Requirement already satisfied: six in /usr/local/lib/python3.6/dist-packages (from nltk) (1.15.0)\n",
            "[nltk_data] Downloading package punkt to /root/nltk_data...\n",
            "[nltk_data]   Package punkt is already up-to-date!\n",
            "['Dr.', 'Mirna', 'Adriani', 'bercerita', ',', 'bahwa', 'Fasilkom', 'UI', 'memiliki', 'mahasiswa', 'sebanyak', '1.700', 'orang', ',', 'dengan', 'jumlah', 'mahasiswi', 'rata-rata', '30', '%', '.']\n",
            "['Pada', 'awal', 'berdiri', 'Fasilkom', ',', 'Juli', '1986', ',', 'jumlah', 'mahasiswi', 'hanya', 'mencapai', '20', '%', 'saja', '!']\n",
            "['20', 'tahun', 'semenjak', 'berdiri', ',', 'Fasilkom', 'membuka', 'Prodi', 'Sistem', 'Informasi', '.']\n",
            "['Sekarang', 'Fasilkom', 'berumur', '34', '.']\n",
            "['Nomor', 'telepon', 'Fasilkom', 'adalah', '+62-21', '5557', '2819', '.']\n"
          ]
        }
      ],
      "metadata": {
        "id": "-bZyAAiavOFd",
        "colab": {
          "base_uri": "https://localhost:8080/",
          "height": 195
        },
        "outputId": "de96d97b-ce19-4ce2-a62d-6994a2c3cdf5"
      }
    },
    {
      "cell_type": "code",
      "execution_count": null,
      "source": [
        "# NLTK juga memiliki list of stopwords, di berbagai bahasa\n",
        "import nltk\n",
        "nltk.download('stopwords')\n",
        "print(stopwords.words('english'))\n",
        "print(stopwords.words('indonesian'))"
      ],
      "outputs": [
        {
          "output_type": "stream",
          "name": "stdout",
          "text": [
            "[nltk_data] Downloading package stopwords to /root/nltk_data...\n",
            "[nltk_data]   Package stopwords is already up-to-date!\n",
            "['i', 'me', 'my', 'myself', 'we', 'our', 'ours', 'ourselves', 'you', \"you're\", \"you've\", \"you'll\", \"you'd\", 'your', 'yours', 'yourself', 'yourselves', 'he', 'him', 'his', 'himself', 'she', \"she's\", 'her', 'hers', 'herself', 'it', \"it's\", 'its', 'itself', 'they', 'them', 'their', 'theirs', 'themselves', 'what', 'which', 'who', 'whom', 'this', 'that', \"that'll\", 'these', 'those', 'am', 'is', 'are', 'was', 'were', 'be', 'been', 'being', 'have', 'has', 'had', 'having', 'do', 'does', 'did', 'doing', 'a', 'an', 'the', 'and', 'but', 'if', 'or', 'because', 'as', 'until', 'while', 'of', 'at', 'by', 'for', 'with', 'about', 'against', 'between', 'into', 'through', 'during', 'before', 'after', 'above', 'below', 'to', 'from', 'up', 'down', 'in', 'out', 'on', 'off', 'over', 'under', 'again', 'further', 'then', 'once', 'here', 'there', 'when', 'where', 'why', 'how', 'all', 'any', 'both', 'each', 'few', 'more', 'most', 'other', 'some', 'such', 'no', 'nor', 'not', 'only', 'own', 'same', 'so', 'than', 'too', 'very', 's', 't', 'can', 'will', 'just', 'don', \"don't\", 'should', \"should've\", 'now', 'd', 'll', 'm', 'o', 're', 've', 'y', 'ain', 'aren', \"aren't\", 'couldn', \"couldn't\", 'didn', \"didn't\", 'doesn', \"doesn't\", 'hadn', \"hadn't\", 'hasn', \"hasn't\", 'haven', \"haven't\", 'isn', \"isn't\", 'ma', 'mightn', \"mightn't\", 'mustn', \"mustn't\", 'needn', \"needn't\", 'shan', \"shan't\", 'shouldn', \"shouldn't\", 'wasn', \"wasn't\", 'weren', \"weren't\", 'won', \"won't\", 'wouldn', \"wouldn't\"]\n",
            "['ada', 'adalah', 'adanya', 'adapun', 'agak', 'agaknya', 'agar', 'akan', 'akankah', 'akhir', 'akhiri', 'akhirnya', 'aku', 'akulah', 'amat', 'amatlah', 'anda', 'andalah', 'antar', 'antara', 'antaranya', 'apa', 'apaan', 'apabila', 'apakah', 'apalagi', 'apatah', 'artinya', 'asal', 'asalkan', 'atas', 'atau', 'ataukah', 'ataupun', 'awal', 'awalnya', 'bagai', 'bagaikan', 'bagaimana', 'bagaimanakah', 'bagaimanapun', 'bagi', 'bagian', 'bahkan', 'bahwa', 'bahwasanya', 'baik', 'bakal', 'bakalan', 'balik', 'banyak', 'bapak', 'baru', 'bawah', 'beberapa', 'begini', 'beginian', 'beginikah', 'beginilah', 'begitu', 'begitukah', 'begitulah', 'begitupun', 'bekerja', 'belakang', 'belakangan', 'belum', 'belumlah', 'benar', 'benarkah', 'benarlah', 'berada', 'berakhir', 'berakhirlah', 'berakhirnya', 'berapa', 'berapakah', 'berapalah', 'berapapun', 'berarti', 'berawal', 'berbagai', 'berdatangan', 'beri', 'berikan', 'berikut', 'berikutnya', 'berjumlah', 'berkali-kali', 'berkata', 'berkehendak', 'berkeinginan', 'berkenaan', 'berlainan', 'berlalu', 'berlangsung', 'berlebihan', 'bermacam', 'bermacam-macam', 'bermaksud', 'bermula', 'bersama', 'bersama-sama', 'bersiap', 'bersiap-siap', 'bertanya', 'bertanya-tanya', 'berturut', 'berturut-turut', 'bertutur', 'berujar', 'berupa', 'besar', 'betul', 'betulkah', 'biasa', 'biasanya', 'bila', 'bilakah', 'bisa', 'bisakah', 'boleh', 'bolehkah', 'bolehlah', 'buat', 'bukan', 'bukankah', 'bukanlah', 'bukannya', 'bulan', 'bung', 'cara', 'caranya', 'cukup', 'cukupkah', 'cukuplah', 'cuma', 'dahulu', 'dalam', 'dan', 'dapat', 'dari', 'daripada', 'datang', 'dekat', 'demi', 'demikian', 'demikianlah', 'dengan', 'depan', 'di', 'dia', 'diakhiri', 'diakhirinya', 'dialah', 'diantara', 'diantaranya', 'diberi', 'diberikan', 'diberikannya', 'dibuat', 'dibuatnya', 'didapat', 'didatangkan', 'digunakan', 'diibaratkan', 'diibaratkannya', 'diingat', 'diingatkan', 'diinginkan', 'dijawab', 'dijelaskan', 'dijelaskannya', 'dikarenakan', 'dikatakan', 'dikatakannya', 'dikerjakan', 'diketahui', 'diketahuinya', 'dikira', 'dilakukan', 'dilalui', 'dilihat', 'dimaksud', 'dimaksudkan', 'dimaksudkannya', 'dimaksudnya', 'diminta', 'dimintai', 'dimisalkan', 'dimulai', 'dimulailah', 'dimulainya', 'dimungkinkan', 'dini', 'dipastikan', 'diperbuat', 'diperbuatnya', 'dipergunakan', 'diperkirakan', 'diperlihatkan', 'diperlukan', 'diperlukannya', 'dipersoalkan', 'dipertanyakan', 'dipunyai', 'diri', 'dirinya', 'disampaikan', 'disebut', 'disebutkan', 'disebutkannya', 'disini', 'disinilah', 'ditambahkan', 'ditandaskan', 'ditanya', 'ditanyai', 'ditanyakan', 'ditegaskan', 'ditujukan', 'ditunjuk', 'ditunjuki', 'ditunjukkan', 'ditunjukkannya', 'ditunjuknya', 'dituturkan', 'dituturkannya', 'diucapkan', 'diucapkannya', 'diungkapkan', 'dong', 'dua', 'dulu', 'empat', 'enggak', 'enggaknya', 'entah', 'entahlah', 'guna', 'gunakan', 'hal', 'hampir', 'hanya', 'hanyalah', 'hari', 'harus', 'haruslah', 'harusnya', 'hendak', 'hendaklah', 'hendaknya', 'hingga', 'ia', 'ialah', 'ibarat', 'ibaratkan', 'ibaratnya', 'ibu', 'ikut', 'ingat', 'ingat-ingat', 'ingin', 'inginkah', 'inginkan', 'ini', 'inikah', 'inilah', 'itu', 'itukah', 'itulah', 'jadi', 'jadilah', 'jadinya', 'jangan', 'jangankan', 'janganlah', 'jauh', 'jawab', 'jawaban', 'jawabnya', 'jelas', 'jelaskan', 'jelaslah', 'jelasnya', 'jika', 'jikalau', 'juga', 'jumlah', 'jumlahnya', 'justru', 'kala', 'kalau', 'kalaulah', 'kalaupun', 'kalian', 'kami', 'kamilah', 'kamu', 'kamulah', 'kan', 'kapan', 'kapankah', 'kapanpun', 'karena', 'karenanya', 'kasus', 'kata', 'katakan', 'katakanlah', 'katanya', 'ke', 'keadaan', 'kebetulan', 'kecil', 'kedua', 'keduanya', 'keinginan', 'kelamaan', 'kelihatan', 'kelihatannya', 'kelima', 'keluar', 'kembali', 'kemudian', 'kemungkinan', 'kemungkinannya', 'kenapa', 'kepada', 'kepadanya', 'kesampaian', 'keseluruhan', 'keseluruhannya', 'keterlaluan', 'ketika', 'khususnya', 'kini', 'kinilah', 'kira', 'kira-kira', 'kiranya', 'kita', 'kitalah', 'kok', 'kurang', 'lagi', 'lagian', 'lah', 'lain', 'lainnya', 'lalu', 'lama', 'lamanya', 'lanjut', 'lanjutnya', 'lebih', 'lewat', 'lima', 'luar', 'macam', 'maka', 'makanya', 'makin', 'malah', 'malahan', 'mampu', 'mampukah', 'mana', 'manakala', 'manalagi', 'masa', 'masalah', 'masalahnya', 'masih', 'masihkah', 'masing', 'masing-masing', 'mau', 'maupun', 'melainkan', 'melakukan', 'melalui', 'melihat', 'melihatnya', 'memang', 'memastikan', 'memberi', 'memberikan', 'membuat', 'memerlukan', 'memihak', 'meminta', 'memintakan', 'memisalkan', 'memperbuat', 'mempergunakan', 'memperkirakan', 'memperlihatkan', 'mempersiapkan', 'mempersoalkan', 'mempertanyakan', 'mempunyai', 'memulai', 'memungkinkan', 'menaiki', 'menambahkan', 'menandaskan', 'menanti', 'menanti-nanti', 'menantikan', 'menanya', 'menanyai', 'menanyakan', 'mendapat', 'mendapatkan', 'mendatang', 'mendatangi', 'mendatangkan', 'menegaskan', 'mengakhiri', 'mengapa', 'mengatakan', 'mengatakannya', 'mengenai', 'mengerjakan', 'mengetahui', 'menggunakan', 'menghendaki', 'mengibaratkan', 'mengibaratkannya', 'mengingat', 'mengingatkan', 'menginginkan', 'mengira', 'mengucapkan', 'mengucapkannya', 'mengungkapkan', 'menjadi', 'menjawab', 'menjelaskan', 'menuju', 'menunjuk', 'menunjuki', 'menunjukkan', 'menunjuknya', 'menurut', 'menuturkan', 'menyampaikan', 'menyangkut', 'menyatakan', 'menyebutkan', 'menyeluruh', 'menyiapkan', 'merasa', 'mereka', 'merekalah', 'merupakan', 'meski', 'meskipun', 'meyakini', 'meyakinkan', 'minta', 'mirip', 'misal', 'misalkan', 'misalnya', 'mula', 'mulai', 'mulailah', 'mulanya', 'mungkin', 'mungkinkah', 'nah', 'naik', 'namun', 'nanti', 'nantinya', 'nyaris', 'nyatanya', 'oleh', 'olehnya', 'pada', 'padahal', 'padanya', 'pak', 'paling', 'panjang', 'pantas', 'para', 'pasti', 'pastilah', 'penting', 'pentingnya', 'per', 'percuma', 'perlu', 'perlukah', 'perlunya', 'pernah', 'persoalan', 'pertama', 'pertama-tama', 'pertanyaan', 'pertanyakan', 'pihak', 'pihaknya', 'pukul', 'pula', 'pun', 'punya', 'rasa', 'rasanya', 'rata', 'rupanya', 'saat', 'saatnya', 'saja', 'sajalah', 'saling', 'sama', 'sama-sama', 'sambil', 'sampai', 'sampai-sampai', 'sampaikan', 'sana', 'sangat', 'sangatlah', 'satu', 'saya', 'sayalah', 'se', 'sebab', 'sebabnya', 'sebagai', 'sebagaimana', 'sebagainya', 'sebagian', 'sebaik', 'sebaik-baiknya', 'sebaiknya', 'sebaliknya', 'sebanyak', 'sebegini', 'sebegitu', 'sebelum', 'sebelumnya', 'sebenarnya', 'seberapa', 'sebesar', 'sebetulnya', 'sebisanya', 'sebuah', 'sebut', 'sebutlah', 'sebutnya', 'secara', 'secukupnya', 'sedang', 'sedangkan', 'sedemikian', 'sedikit', 'sedikitnya', 'seenaknya', 'segala', 'segalanya', 'segera', 'seharusnya', 'sehingga', 'seingat', 'sejak', 'sejauh', 'sejenak', 'sejumlah', 'sekadar', 'sekadarnya', 'sekali', 'sekali-kali', 'sekalian', 'sekaligus', 'sekalipun', 'sekarang', 'sekarang', 'sekecil', 'seketika', 'sekiranya', 'sekitar', 'sekitarnya', 'sekurang-kurangnya', 'sekurangnya', 'sela', 'selain', 'selaku', 'selalu', 'selama', 'selama-lamanya', 'selamanya', 'selanjutnya', 'seluruh', 'seluruhnya', 'semacam', 'semakin', 'semampu', 'semampunya', 'semasa', 'semasih', 'semata', 'semata-mata', 'semaunya', 'sementara', 'semisal', 'semisalnya', 'sempat', 'semua', 'semuanya', 'semula', 'sendiri', 'sendirian', 'sendirinya', 'seolah', 'seolah-olah', 'seorang', 'sepanjang', 'sepantasnya', 'sepantasnyalah', 'seperlunya', 'seperti', 'sepertinya', 'sepihak', 'sering', 'seringnya', 'serta', 'serupa', 'sesaat', 'sesama', 'sesampai', 'sesegera', 'sesekali', 'seseorang', 'sesuatu', 'sesuatunya', 'sesudah', 'sesudahnya', 'setelah', 'setempat', 'setengah', 'seterusnya', 'setiap', 'setiba', 'setibanya', 'setidak-tidaknya', 'setidaknya', 'setinggi', 'seusai', 'sewaktu', 'siap', 'siapa', 'siapakah', 'siapapun', 'sini', 'sinilah', 'soal', 'soalnya', 'suatu', 'sudah', 'sudahkah', 'sudahlah', 'supaya', 'tadi', 'tadinya', 'tahu', 'tahun', 'tak', 'tambah', 'tambahnya', 'tampak', 'tampaknya', 'tandas', 'tandasnya', 'tanpa', 'tanya', 'tanyakan', 'tanyanya', 'tapi', 'tegas', 'tegasnya', 'telah', 'tempat', 'tengah', 'tentang', 'tentu', 'tentulah', 'tentunya', 'tepat', 'terakhir', 'terasa', 'terbanyak', 'terdahulu', 'terdapat', 'terdiri', 'terhadap', 'terhadapnya', 'teringat', 'teringat-ingat', 'terjadi', 'terjadilah', 'terjadinya', 'terkira', 'terlalu', 'terlebih', 'terlihat', 'termasuk', 'ternyata', 'tersampaikan', 'tersebut', 'tersebutlah', 'tertentu', 'tertuju', 'terus', 'terutama', 'tetap', 'tetapi', 'tiap', 'tiba', 'tiba-tiba', 'tidak', 'tidakkah', 'tidaklah', 'tiga', 'tinggi', 'toh', 'tunjuk', 'turut', 'tutur', 'tuturnya', 'ucap', 'ucapnya', 'ujar', 'ujarnya', 'umum', 'umumnya', 'ungkap', 'ungkapnya', 'untuk', 'usah', 'usai', 'waduh', 'wah', 'wahai', 'waktu', 'waktunya', 'walau', 'walaupun', 'wong', 'yaitu', 'yakin', 'yakni', 'yang']\n"
          ]
        }
      ],
      "metadata": {
        "colab": {
          "base_uri": "https://localhost:8080/"
        },
        "id": "I6iErKwG_r8S",
        "outputId": "314ebde4-eafb-4316-c2c8-adbafabe620c"
      }
    },
    {
      "cell_type": "code",
      "execution_count": null,
      "source": [
        "# Snowball stemmer di NLTK; support beberapa bahasa namun tidak Bahasa Indonesia\n",
        "from nltk.stem import SnowballStemmer\n",
        "stemmer = SnowballStemmer(\"german\")\n",
        "stemmer.stem(\"Autobahnen\") #highway/jalan tol, plural"
      ],
      "outputs": [
        {
          "output_type": "execute_result",
          "data": {
            "application/vnd.google.colaboratory.intrinsic+json": {
              "type": "string"
            },
            "text/plain": [
              "'autobahn'"
            ]
          },
          "metadata": {},
          "execution_count": 19
        }
      ],
      "metadata": {
        "colab": {
          "base_uri": "https://localhost:8080/",
          "height": 35
        },
        "id": "b7uGDkaLADwi",
        "outputId": "fcc4cd53-ade5-45b3-e119-bddce65e5ba5"
      }
    },
    {
      "cell_type": "code",
      "execution_count": null,
      "source": [
        "#spacy tokenizers and stopwords are language-specific, but there are no Indonesian yet\n",
        "from spacy.lang.en import English\n",
        "nlp = English()\n",
        "\n",
        "tokens = nlp.tokenizer(txt)\n",
        "for token in tokens:\n",
        "  print(token.text)\n",
        "\n",
        "print(nlp.Defaults.stop_words)"
      ],
      "outputs": [
        {
          "output_type": "stream",
          "name": "stdout",
          "text": [
            "Dr.\n",
            "Mirna\n",
            "Adriani\n",
            "bercerita\n",
            ",\n",
            "bahwa\n",
            "Fasilkom\n",
            "UI\n",
            "memiliki\n",
            "mahasiswa\n",
            "sebanyak\n",
            "1.700\n",
            "orang\n",
            ",\n",
            "dengan\n",
            "jumlah\n",
            "mahasiswi\n",
            "rata\n",
            "-\n",
            "rata\n",
            "30\n",
            "%\n",
            ".\n",
            "Pada\n",
            "awal\n",
            "berdiri\n",
            "Fasilkom\n",
            ",\n",
            "Juli\n",
            "1986\n",
            ",\n",
            "jumlah\n",
            "mahasiswi\n",
            "hanya\n",
            "mencapai\n",
            "20\n",
            "%\n",
            "saja\n",
            "!\n",
            "20\n",
            "tahun\n",
            "semenjak\n",
            "berdiri\n",
            ",\n",
            "Fasilkom\n",
            "membuka\n",
            "Prodi\n",
            "Sistem\n",
            "Informasi\n",
            ".\n",
            "Sekarang\n",
            "Fasilkom\n",
            "berumur\n",
            "34\n",
            ".\n",
            "Nomor\n",
            "telepon\n",
            "Fasilkom\n",
            "adalah\n",
            "9999\n",
            "7777\n",
            ".\n",
            "{'just', 'thereupon', 'enough', 'former', 'of', 'throughout', 'therefore', 'own', 'their', 'whereby', 'me', '’re', 'n’t', 'various', 'thence', 'its', 'wherever', 'often', 'towards', 'mostly', 'amongst', 'third', 'except', 'afterwards', 'seemed', 'nowhere', 'has', 'being', 'do', 'more', '‘d', 'meanwhile', 'anyway', 'empty', 'only', 'above', 'done', 'yet', 'against', '’m', 'see', 'will', \"'ll\", 'after', 'across', '‘ve', '‘ll', 'using', 'next', '‘m', 'rather', 'beyond', 'why', 'then', 'behind', 'these', 'ten', 'besides', 'indeed', 'yours', 'along', 'or', 'beforehand', 'last', 'be', 'so', 'them', 'move', 'while', 'within', 'a', 'anything', 'top', 'due', 'neither', 'she', \"'s\", \"'d\", 'together', 'front', 'seems', 'we', 'thus', 'anywhere', 'least', 'must', 'before', 'take', 'you', 'on', 'sometimes', '’s', 'herself', 'too', 'off', 'whole', 'become', 'thereby', 'even', 'about', 'doing', 'whenever', 'as', 'hundred', 'therein', 'full', 'every', 'i', 'hers', 'ca', 'out', 'all', 'again', 'latter', 'well', 'noone', 'who', 'that', 'with', \"n't\", 'forty', 'one', 'twelve', 'further', 'something', 'hereafter', 'say', 'toward', 'became', 'than', 'yourselves', '‘re', 'ourselves', 'himself', 'since', 'which', 'an', 'anyone', 'into', 'yourself', 'because', 'show', 'go', 'really', 'back', 'over', 'still', 'becoming', 'nine', 'thru', 'whose', 'nobody', 'sometime', 'hence', 'six', 'none', 'any', 'never', 'seeming', 'everyone', 'her', 'name', 'fifteen', 'him', 'serious', 'nevertheless', 'was', 'around', 'whether', 'wherein', 'between', 'eight', 'four', 'eleven', 'whatever', 'quite', 'nothing', 'amount', '’ve', 'someone', 'itself', 'although', 'elsewhere', 'unless', 'seem', 'first', 'without', 'both', 'regarding', 're', 'at', 'am', 'now', 'side', 'whoever', 'each', 'get', 'but', 'such', 'also', 'put', 'us', 'your', 'either', 'if', 'for', 'from', 'herein', 'is', 'most', 'n‘t', 'among', 'alone', 'beside', \"'re\", 'were', 'though', 'moreover', \"'m\", 'ever', 'nor', 'until', 'our', 'hereupon', 'whereupon', 'very', 'could', 'did', 'are', 'hereby', 'ours', 'per', 'bottom', 'where', 'to', 'whereas', 'namely', 'same', 'almost', 'some', 'by', 'thereafter', 'keep', 'call', 'how', 'less', 'somehow', 'however', 'down', 'does', 'been', 'may', 'under', 'few', 'and', 'up', 'when', 'twenty', 'below', 'formerly', 'fifty', 'anyhow', 'have', '’ll', 'it', 'upon', 'used', 'mine', 'the', 'he', 'cannot', 'whither', 'in', 'they', '‘s', 'give', 'several', 'other', 'everything', 'make', 'somewhere', 'perhaps', 'otherwise', 'what', 'onto', 'else', 'whom', 'latterly', 'others', 'had', 'this', 'already', 'everywhere', 'no', 'here', 'whence', 'two', 'those', 'please', 'much', 'should', 'part', 'might', 'three', 'always', 'can', 'many', 'another', 'via', 'myself', 'not', 'would', 'made', 'during', 'whereafter', 'five', 'themselves', 'sixty', 'through', '’d', 'once', 'my', 'there', \"'ve\", 'his', 'becomes'}\n"
          ]
        }
      ],
      "metadata": {
        "colab": {
          "base_uri": "https://localhost:8080/"
        },
        "id": "cji7SVFq5YXv",
        "outputId": "452e3e52-689e-482b-d534-36dcc60c77b8"
      }
    }
  ]
}