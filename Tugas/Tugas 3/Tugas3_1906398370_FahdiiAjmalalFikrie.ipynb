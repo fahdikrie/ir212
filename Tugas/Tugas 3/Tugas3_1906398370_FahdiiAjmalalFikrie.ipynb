{
 "cells": [
  {
   "cell_type": "markdown",
   "metadata": {},
   "source": [
    "Referensi\n",
    "1. "
   ]
  },
  {
   "cell_type": "markdown",
   "metadata": {},
   "source": [
    "Atribusi\n",
    "1. "
   ]
  },
  {
   "cell_type": "code",
   "execution_count": 5,
   "metadata": {},
   "outputs": [],
   "source": [
    "# Mengimpor library & package yang digunakan\n",
    "import nltk\n",
    "import string\n",
    "import numpy as np\n",
    "import pandas as pd\n",
    "\n",
    "from pprint import pprint\n",
    "from IPython.display import display"
   ]
  },
  {
   "cell_type": "markdown",
   "metadata": {},
   "source": [
    "### **A - Preprocessing (5 Poin)**\n",
    "\n",
    "Pada bagian ini, Anda diminta untuk melakukan preprocessing pada korpus Anda. Gunakan hasil preprocessing pada bagian-bagian setelah ini\n",
    "\n",
    "1. [3] Lakukan lowercasing dan tokenisasi. Lowercasing dilakukan dengan fungsi lower() dan tokenisasi dilakukan dengan word_tokenize dari NLTK. Tampilkan 10 abstrak teratas!"
   ]
  },
  {
   "cell_type": "code",
   "execution_count": null,
   "metadata": {},
   "outputs": [],
   "source": []
  },
  {
   "cell_type": "markdown",
   "metadata": {},
   "source": [
    "2. [2] Lakukan penghapusan semua karakter selain alfanumerik menggunakan\n",
    "fungsi isalnum(). Tampilkan 10 abstrak teratas!"
   ]
  },
  {
   "cell_type": "code",
   "execution_count": null,
   "metadata": {},
   "outputs": [],
   "source": []
  },
  {
   "cell_type": "markdown",
   "metadata": {},
   "source": [
    "### **B - BM-25 (30 Poin)**\n",
    "\n",
    "Pada bagian ini, Anda akan dipandu untuk melakukan implementasi retrieval menggunakan BM25 secara langkah demi langkah pada korpus yang telah melalui tahapan pre-processing\n",
    "\n",
    "1. [2] Untuk setiap abstrak yang telah di-preprocessing, buatlah dictionary dengan key berupa token dan value berupa term frequency. Anda diperkenankan menggunakan library collections, namun Anda tidak wajib menggunakan library ini. Tampilkan dictionary untuk masing-masing dari 10 abstrak teratas"
   ]
  },
  {
   "cell_type": "code",
   "execution_count": null,
   "metadata": {},
   "outputs": [],
   "source": []
  },
  {
   "cell_type": "markdown",
   "metadata": {},
   "source": [
    "2. [6] Buatlah daftar vocabulary (token yang unik) dari seluruh abstrak dan hitung document frequency serta inverse document frequency (idf) untuk setiap vocabulary"
   ]
  },
  {
   "cell_type": "code",
   "execution_count": null,
   "metadata": {},
   "outputs": [],
   "source": []
  },
  {
   "cell_type": "markdown",
   "metadata": {},
   "source": [
    "3. [4] Carilah document length (dl) dari setiap abstrak dan average document length (adl) dari keseluruhan abstrak. Tampilkan nilai dl dari 10 abstrak teratas."
   ]
  },
  {
   "cell_type": "code",
   "execution_count": null,
   "metadata": {},
   "outputs": [],
   "source": []
  },
  {
   "cell_type": "markdown",
   "metadata": {},
   "source": [
    "4. [12] Buatlah fungsi score(query, doc, k, b) yang memberi output nilai skor relevansi antara query dengan masing-masing abstrak (doc)."
   ]
  },
  {
   "cell_type": "code",
   "execution_count": null,
   "metadata": {},
   "outputs": [],
   "source": []
  },
  {
   "cell_type": "markdown",
   "metadata": {},
   "source": [
    "5. [6] Gunakan fungsi score yang telah Anda buat untuk mencari 10 abstrak dengan\n",
    "relevansi tertinggi untuk query, nilai k, dan b berikut ini:\n",
    "\n",
    "    a. query: information retrieval, k=1.2, b=0.75\n",
    "\n",
    "    b. query: sistem manajemen pengetahuan, k=1.2, b=0.5\n",
    "\n",
    "    c. query: knowledge discovery, k=2, b=0.5\n",
    "\n",
    "    Tampilkan 10 tokenized abstrak dengan nilai relevansi tertinggi untuk masing-masing dari (a), (b), dan (c). Anda dilarang menggunakan library yang merupakan implementasi BM25 secara langsung."
   ]
  },
  {
   "cell_type": "code",
   "execution_count": null,
   "metadata": {},
   "outputs": [],
   "source": []
  },
  {
   "cell_type": "markdown",
   "metadata": {},
   "source": [
    "### **C- Neural Embedding Word2Vec (30 Poin)**\n",
    "\n",
    "1. [2] Menggunakan data preprocessing, lakukan stemming dengan menggunakan library Sastrawi untuk masing-masing token pada setiap baris data."
   ]
  },
  {
   "cell_type": "code",
   "execution_count": null,
   "metadata": {},
   "outputs": [],
   "source": []
  },
  {
   "cell_type": "markdown",
   "metadata": {},
   "source": [
    "2. [5] Menggunakan data hasil stemming, buatlah sebuah model Word2Vec dengan modul yang disediakan oleh gensim (silahkan baca dokumentasi lebih lanjut) dengan ketentuan sebagai berikut:\n",
    "\n",
    "    a. ukuran dimensi Word2Vec adalah 2\n",
    "\n",
    "    b. dibebaskan untuk menggunakan model skip-gram ataupun CBOW\n",
    "\n",
    "    c. - jumlah iterasi (epoch) sebesar 10.\n",
    "\n",
    "    d. untuk parameter lainnya dibebaskan kepada mahasiswa"
   ]
  },
  {
   "cell_type": "code",
   "execution_count": null,
   "metadata": {},
   "outputs": [],
   "source": []
  },
  {
   "cell_type": "markdown",
   "metadata": {},
   "source": [
    "3. [2] Gunakan model yang Anda buat untuk mencari representasi word2vec dari term berikut ini:\n",
    "\n",
    "    a. algoritma\n",
    "\n",
    "    b. *interface*"
   ]
  },
  {
   "cell_type": "code",
   "execution_count": null,
   "metadata": {},
   "outputs": [],
   "source": []
  },
  {
   "cell_type": "markdown",
   "metadata": {},
   "source": [
    "4. [3] Plot nilai vektor dari kedua term yang teman-teman dapatkan (soal nomor 3) dalam grafik 2 dimensi euclidean space (tidak perlu menggunakan dimensionality reduction karena vektor sudah berada pada 2 dimensi).\n",
    "\n",
    "    **DISCLAIMER**: Hasil plot yang didapat mungkin saja tidak sesuai dengan ekspektasi teman - teman mengingat kecilnya nilai epoch yang digunakan dan korpus yang digunakan untuk kebutuhan tugas ini."
   ]
  },
  {
   "cell_type": "code",
   "execution_count": null,
   "metadata": {},
   "outputs": [],
   "source": []
  },
  {
   "cell_type": "markdown",
   "metadata": {},
   "source": [
    "5. [12] Buatlah sebuah fungsi yang dapat mengembalikan dokumen relevan menggunakan Word2Vec berdasarkan abstrak jika diberikan sebuah query. Cara kerjanya dapat tapi tidak terbatas seperti berikut:\n",
    "\n",
    "    a. Untuk menghitung vektor suatu dokumen atau kumpulan kata dapat dilakukan dengan menggabungkan vektor kata (word embedding). Penggabungan juga dapat bervariasi.\n",
    "\n",
    "    b. Mencari dokumen yang relevan dapat dilakukan dengan menghitung similarity (contoh: cosine similarity) antara representasi vektor query dan vektor dokumen. Seharusnya dokumen dengan similarity tinggi cenderung memiliki relevansi yang tinggi juga."
   ]
  },
  {
   "cell_type": "code",
   "execution_count": null,
   "metadata": {},
   "outputs": [],
   "source": []
  },
  {
   "cell_type": "markdown",
   "metadata": {},
   "source": [
    "6. [6] Gunakan fungsi yang telah Anda buat untuk mencari 10 abstrak dengan relevansi tertinggi untuk query:\n",
    "\n",
    "   a. query: information retrieval\n",
    "\n",
    "   b. query: sistem manajemen pengetahuan\n",
    "\n",
    "   c. query: knowledge discovery"
   ]
  },
  {
   "cell_type": "code",
   "execution_count": null,
   "metadata": {},
   "outputs": [],
   "source": []
  },
  {
   "cell_type": "markdown",
   "metadata": {},
   "source": [
    "7. [10] **BONUS**: Anda dapat menggunakan pretrained model word2vec yang sudah dilatih menggunakan korpus wikipedia bahasa Indonesia. Setelah berhasil me-load model tersebut, Anda dapat mencoba menggunakan model tersebut untuk menjawab soal nomor 5 dan 6. Coba ceritakan perbedaan apa yang teman-teman dapatkan tanpa dan dengan pretrained model?"
   ]
  },
  {
   "cell_type": "code",
   "execution_count": null,
   "metadata": {},
   "outputs": [],
   "source": []
  },
  {
   "cell_type": "markdown",
   "metadata": {},
   "source": [
    "### **D - Dimensionality Reduction (10 Poin)**\n",
    "\n",
    "1. [2] Buatlah representasi matriks TF-IDF dengan mengalikan nilai tf pada setiap terms di setiap dokumen dan idf dari dokumen tersebut. Gunakan nilai tf dan idf yang Anda dapatkan pada nomor B2. Kemudian tampilkan hasilnya."
   ]
  },
  {
   "cell_type": "code",
   "execution_count": null,
   "metadata": {},
   "outputs": [],
   "source": []
  },
  {
   "cell_type": "markdown",
   "metadata": {},
   "source": [
    "2. [3] Berdasarkan hasil yang sudah didapatkan pada nomor 1, lakukan pemprosesan menggunakan PCA (2 komponen), kemudian tampilkan seluruh dokumen dalam bentuk visualisasi PCA di plot euclidean space.\n",
    "\n",
    "    **Tips**: Bayangkan setiap kata pada korpus berada di posisi kolom, sedangkan nomor dokumen berada di posisi baris, kemudian semua kata yang ada pada korpus akan direduksi menjadi 2 principal component."
   ]
  },
  {
   "cell_type": "code",
   "execution_count": null,
   "metadata": {},
   "outputs": [],
   "source": []
  },
  {
   "cell_type": "markdown",
   "metadata": {},
   "source": [
    "3. [3] Berdasarkan hasil yang sudah didapatkan pada nomor 1, lakukan pemprosesan menggunakan SVD (2 komponen). Anda dapat mencoba menggunakan **TruncatedSVD** pada library scikit-learn untuk menyelesaikannya."
   ]
  },
  {
   "cell_type": "code",
   "execution_count": null,
   "metadata": {},
   "outputs": [],
   "source": []
  },
  {
   "cell_type": "markdown",
   "metadata": {},
   "source": [
    "4. [2] Bagaimana hasil yang Anda dapatkan setelah menggunakan PCA dan SVD ? Apakah ada hal unik yang bisa Anda temukan ? Jelaskan analisis singkat Anda minimal 3 kalimat."
   ]
  },
  {
   "cell_type": "code",
   "execution_count": null,
   "metadata": {},
   "outputs": [],
   "source": []
  },
  {
   "cell_type": "markdown",
   "metadata": {},
   "source": [
    "### **E - IR Model Evaluation (25 Poin)**\n",
    "\n",
    "Pada bagian ini, Anda diminta untuk mengevaluasi hasil retrieval dari sistem yang telah Anda buat pada bagian B dan C dan memberikan analisis Anda berdasarkan hasil evaluasi yang Anda dapatkan. Gunakan hanya query “information retrieval” (query nomor a pada B5 dan C6) di bagian ini.\n",
    "\n",
    "1. [5] Lakukan human judgment (proses manual dalam menilai apakah dokumen yang diperoleh merupakan dokumen yang relevan dengan query yang diberikan) pada 10 abstrak untuk masing-masing hasil retrieval menggunakan BM25 (bagian B) dan Word2Vec (bagian C). Berikan nilai 1 jika Anda anggap abstrak tersebut relevan dengan query awal dan 0 jika tidak. Untuk tugas ini, tidak masalah jika Anda tidak mengetahui secara pasti apakah query benar-benar relevan dengan dokumen yang diperoleh. Yang penting adalah Anda konsisten dalam menilai kedua hasil retrieval. Tampilkan hasil human judgement yang telah Anda buat!"
   ]
  },
  {
   "cell_type": "code",
   "execution_count": null,
   "metadata": {},
   "outputs": [],
   "source": []
  },
  {
   "cell_type": "markdown",
   "metadata": {},
   "source": [
    "2. [10] Berdasarkan hasil dari nomor 1, hitung P@1 (precision-at-1), P@3, P@5, Mean Average Precision (MAP) dengan micro average, dan MAP dengan macro average dari hasil retrieval Anda untuk BM25 dan Word2Vec. Anda boleh melakukan perhitungan ini secara manual ataupun otomatis."
   ]
  },
  {
   "cell_type": "code",
   "execution_count": null,
   "metadata": {},
   "outputs": [],
   "source": []
  },
  {
   "cell_type": "markdown",
   "metadata": {},
   "source": [
    "3. [7] Andaikan pada ground truth terdapat 5 item yang relevan dan berdasarkan hasil dari nomor 1, hitung R@1 (recall-at-1), R@3, R@5 dari hasil retrieval Anda untuk BM25 dan Word2Vec. Anda boleh melakukan ini secara manual maupun otomatis."
   ]
  },
  {
   "cell_type": "code",
   "execution_count": null,
   "metadata": {},
   "outputs": [],
   "source": []
  },
  {
   "cell_type": "markdown",
   "metadata": {},
   "source": [
    "4. [3] Berdasarkan hasil dari nomor-nomor sebelumnya di bagian ini, lakukan analisis perbandingan mana yang lebih baik antara model BM25 atau Word2Vec. Sertakan penjelasan singkat dalam 3-5 kalimat terkait hasil yang didapatkan tersebut."
   ]
  },
  {
   "cell_type": "code",
   "execution_count": null,
   "metadata": {},
   "outputs": [],
   "source": []
  }
 ],
 "metadata": {
  "interpreter": {
   "hash": "949777d72b0d2535278d3dc13498b2535136f6dfe0678499012e853ee9abcab1"
  },
  "kernelspec": {
   "display_name": "Python 3.9.7 64-bit",
   "language": "python",
   "name": "python3"
  },
  "language_info": {
   "codemirror_mode": {
    "name": "ipython",
    "version": 3
   },
   "file_extension": ".py",
   "mimetype": "text/x-python",
   "name": "python",
   "nbconvert_exporter": "python",
   "pygments_lexer": "ipython3",
   "version": "3.9.7"
  },
  "orig_nbformat": 4
 },
 "nbformat": 4,
 "nbformat_minor": 2
}
